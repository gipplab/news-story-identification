{
 "cells": [
  {
   "cell_type": "markdown",
   "id": "53c6ec9d-980b-48e1-b063-a8ef68dc4565",
   "metadata": {},
   "source": [
    "# References\n",
    "- https://www.machinelearningplus.com/nlp/topic-modeling-visualization-how-to-present-results-lda-models/"
   ]
  },
  {
   "cell_type": "markdown",
   "id": "178a8c29",
   "metadata": {
    "id": "178a8c29"
   },
   "source": [
    "# Import packages "
   ]
  },
  {
   "cell_type": "code",
   "execution_count": 1,
   "id": "7c5c9beb",
   "metadata": {
    "colab": {
     "base_uri": "https://localhost:8080/"
    },
    "execution": {
     "iopub.execute_input": "2022-02-07T00:05:44.013693Z",
     "iopub.status.busy": "2022-02-07T00:05:44.013303Z",
     "iopub.status.idle": "2022-02-07T00:06:10.339588Z",
     "shell.execute_reply": "2022-02-07T00:06:10.338704Z",
     "shell.execute_reply.started": "2022-02-07T00:05:44.013598Z"
    },
    "id": "7c5c9beb",
    "outputId": "7a045395-4d2f-491b-b7ac-26b44b4ad5ab",
    "tags": []
   },
   "outputs": [
    {
     "name": "stdout",
     "output_type": "stream",
     "text": [
      "Requirement already satisfied: spacy in /opt/conda/envs/saturn/lib/python3.9/site-packages (3.2.1)\n",
      "Requirement already satisfied: catalogue<2.1.0,>=2.0.6 in /opt/conda/envs/saturn/lib/python3.9/site-packages (from spacy) (2.0.6)\n",
      "Requirement already satisfied: murmurhash<1.1.0,>=0.28.0 in /opt/conda/envs/saturn/lib/python3.9/site-packages (from spacy) (1.0.6)\n",
      "Requirement already satisfied: numpy>=1.15.0 in /opt/conda/envs/saturn/lib/python3.9/site-packages (from spacy) (1.20.3)\n",
      "Requirement already satisfied: packaging>=20.0 in /opt/conda/envs/saturn/lib/python3.9/site-packages (from spacy) (21.3)\n",
      "Requirement already satisfied: thinc<8.1.0,>=8.0.12 in /opt/conda/envs/saturn/lib/python3.9/site-packages (from spacy) (8.0.13)\n",
      "Requirement already satisfied: preshed<3.1.0,>=3.0.2 in /opt/conda/envs/saturn/lib/python3.9/site-packages (from spacy) (3.0.6)\n",
      "Requirement already satisfied: spacy-loggers<2.0.0,>=1.0.0 in /opt/conda/envs/saturn/lib/python3.9/site-packages (from spacy) (1.0.1)\n",
      "Requirement already satisfied: srsly<3.0.0,>=2.4.1 in /opt/conda/envs/saturn/lib/python3.9/site-packages (from spacy) (2.4.2)\n",
      "Requirement already satisfied: wasabi<1.1.0,>=0.8.1 in /opt/conda/envs/saturn/lib/python3.9/site-packages (from spacy) (0.9.0)\n",
      "Requirement already satisfied: blis<0.8.0,>=0.4.0 in /opt/conda/envs/saturn/lib/python3.9/site-packages (from spacy) (0.7.5)\n",
      "Requirement already satisfied: cymem<2.1.0,>=2.0.2 in /opt/conda/envs/saturn/lib/python3.9/site-packages (from spacy) (2.0.6)\n",
      "Requirement already satisfied: pydantic!=1.8,!=1.8.1,<1.9.0,>=1.7.4 in /opt/conda/envs/saturn/lib/python3.9/site-packages (from spacy) (1.8.2)\n",
      "Requirement already satisfied: langcodes<4.0.0,>=3.2.0 in /opt/conda/envs/saturn/lib/python3.9/site-packages (from spacy) (3.3.0)\n",
      "Requirement already satisfied: setuptools in /opt/conda/envs/saturn/lib/python3.9/site-packages (from spacy) (59.7.0)\n",
      "Requirement already satisfied: pathy>=0.3.5 in /opt/conda/envs/saturn/lib/python3.9/site-packages (from spacy) (0.6.1)\n",
      "Requirement already satisfied: spacy-legacy<3.1.0,>=3.0.8 in /opt/conda/envs/saturn/lib/python3.9/site-packages (from spacy) (3.0.8)\n",
      "Requirement already satisfied: tqdm<5.0.0,>=4.38.0 in /opt/conda/envs/saturn/lib/python3.9/site-packages (from spacy) (4.62.3)\n",
      "Requirement already satisfied: jinja2 in /opt/conda/envs/saturn/lib/python3.9/site-packages (from spacy) (3.0.3)\n",
      "Requirement already satisfied: requests<3.0.0,>=2.13.0 in /opt/conda/envs/saturn/lib/python3.9/site-packages (from spacy) (2.26.0)\n",
      "Requirement already satisfied: typer<0.5.0,>=0.3.0 in /opt/conda/envs/saturn/lib/python3.9/site-packages (from spacy) (0.4.0)\n",
      "Requirement already satisfied: pyparsing!=3.0.5,>=2.0.2 in /opt/conda/envs/saturn/lib/python3.9/site-packages (from packaging>=20.0->spacy) (3.0.6)\n",
      "Requirement already satisfied: smart-open<6.0.0,>=5.0.0 in /opt/conda/envs/saturn/lib/python3.9/site-packages (from pathy>=0.3.5->spacy) (5.2.1)\n",
      "Requirement already satisfied: typing-extensions>=3.7.4.3 in /opt/conda/envs/saturn/lib/python3.9/site-packages (from pydantic!=1.8,!=1.8.1,<1.9.0,>=1.7.4->spacy) (4.0.1)\n",
      "Requirement already satisfied: certifi>=2017.4.17 in /opt/conda/envs/saturn/lib/python3.9/site-packages (from requests<3.0.0,>=2.13.0->spacy) (2021.10.8)\n",
      "Requirement already satisfied: urllib3<1.27,>=1.21.1 in /opt/conda/envs/saturn/lib/python3.9/site-packages (from requests<3.0.0,>=2.13.0->spacy) (1.26.8)\n",
      "Requirement already satisfied: idna<4,>=2.5 in /opt/conda/envs/saturn/lib/python3.9/site-packages (from requests<3.0.0,>=2.13.0->spacy) (3.1)\n",
      "Requirement already satisfied: charset-normalizer~=2.0.0 in /opt/conda/envs/saturn/lib/python3.9/site-packages (from requests<3.0.0,>=2.13.0->spacy) (2.0.10)\n",
      "Requirement already satisfied: click<9.0.0,>=7.1.1 in /opt/conda/envs/saturn/lib/python3.9/site-packages (from typer<0.5.0,>=0.3.0->spacy) (8.0.3)\n",
      "Requirement already satisfied: MarkupSafe>=2.0 in /opt/conda/envs/saturn/lib/python3.9/site-packages (from jinja2->spacy) (2.0.1)\n",
      "Requirement already satisfied: nltk in /opt/conda/envs/saturn/lib/python3.9/site-packages (3.6.7)\n",
      "Requirement already satisfied: regex>=2021.8.3 in /opt/conda/envs/saturn/lib/python3.9/site-packages (from nltk) (2022.1.18)\n",
      "Requirement already satisfied: tqdm in /opt/conda/envs/saturn/lib/python3.9/site-packages (from nltk) (4.62.3)\n",
      "Requirement already satisfied: click in /opt/conda/envs/saturn/lib/python3.9/site-packages (from nltk) (8.0.3)\n",
      "Requirement already satisfied: joblib in /opt/conda/envs/saturn/lib/python3.9/site-packages (from nltk) (1.1.0)\n",
      "Requirement already satisfied: gensim in /opt/conda/envs/saturn/lib/python3.9/site-packages (4.1.2)\n",
      "Requirement already satisfied: smart-open>=1.8.1 in /opt/conda/envs/saturn/lib/python3.9/site-packages (from gensim) (5.2.1)\n",
      "Requirement already satisfied: scipy>=0.18.1 in /opt/conda/envs/saturn/lib/python3.9/site-packages (from gensim) (1.7.3)\n",
      "Requirement already satisfied: numpy>=1.17.0 in /opt/conda/envs/saturn/lib/python3.9/site-packages (from gensim) (1.20.3)\n",
      "Collecting en-core-web-sm==3.2.0\n",
      "  Downloading https://github.com/explosion/spacy-models/releases/download/en_core_web_sm-3.2.0/en_core_web_sm-3.2.0-py3-none-any.whl (13.9 MB)\n",
      "     |████████████████████████████████| 13.9 MB 3.3 MB/s            \n",
      "\u001b[?25hRequirement already satisfied: spacy<3.3.0,>=3.2.0 in /opt/conda/envs/saturn/lib/python3.9/site-packages (from en-core-web-sm==3.2.0) (3.2.1)\n",
      "Requirement already satisfied: spacy-legacy<3.1.0,>=3.0.8 in /opt/conda/envs/saturn/lib/python3.9/site-packages (from spacy<3.3.0,>=3.2.0->en-core-web-sm==3.2.0) (3.0.8)\n",
      "Requirement already satisfied: preshed<3.1.0,>=3.0.2 in /opt/conda/envs/saturn/lib/python3.9/site-packages (from spacy<3.3.0,>=3.2.0->en-core-web-sm==3.2.0) (3.0.6)\n",
      "Requirement already satisfied: requests<3.0.0,>=2.13.0 in /opt/conda/envs/saturn/lib/python3.9/site-packages (from spacy<3.3.0,>=3.2.0->en-core-web-sm==3.2.0) (2.26.0)\n",
      "Requirement already satisfied: langcodes<4.0.0,>=3.2.0 in /opt/conda/envs/saturn/lib/python3.9/site-packages (from spacy<3.3.0,>=3.2.0->en-core-web-sm==3.2.0) (3.3.0)\n",
      "Requirement already satisfied: pydantic!=1.8,!=1.8.1,<1.9.0,>=1.7.4 in /opt/conda/envs/saturn/lib/python3.9/site-packages (from spacy<3.3.0,>=3.2.0->en-core-web-sm==3.2.0) (1.8.2)\n",
      "Requirement already satisfied: catalogue<2.1.0,>=2.0.6 in /opt/conda/envs/saturn/lib/python3.9/site-packages (from spacy<3.3.0,>=3.2.0->en-core-web-sm==3.2.0) (2.0.6)\n",
      "Requirement already satisfied: numpy>=1.15.0 in /opt/conda/envs/saturn/lib/python3.9/site-packages (from spacy<3.3.0,>=3.2.0->en-core-web-sm==3.2.0) (1.20.3)\n",
      "Requirement already satisfied: murmurhash<1.1.0,>=0.28.0 in /opt/conda/envs/saturn/lib/python3.9/site-packages (from spacy<3.3.0,>=3.2.0->en-core-web-sm==3.2.0) (1.0.6)\n",
      "Requirement already satisfied: typer<0.5.0,>=0.3.0 in /opt/conda/envs/saturn/lib/python3.9/site-packages (from spacy<3.3.0,>=3.2.0->en-core-web-sm==3.2.0) (0.4.0)\n",
      "Requirement already satisfied: cymem<2.1.0,>=2.0.2 in /opt/conda/envs/saturn/lib/python3.9/site-packages (from spacy<3.3.0,>=3.2.0->en-core-web-sm==3.2.0) (2.0.6)\n",
      "Requirement already satisfied: pathy>=0.3.5 in /opt/conda/envs/saturn/lib/python3.9/site-packages (from spacy<3.3.0,>=3.2.0->en-core-web-sm==3.2.0) (0.6.1)\n",
      "Requirement already satisfied: tqdm<5.0.0,>=4.38.0 in /opt/conda/envs/saturn/lib/python3.9/site-packages (from spacy<3.3.0,>=3.2.0->en-core-web-sm==3.2.0) (4.62.3)\n",
      "Requirement already satisfied: wasabi<1.1.0,>=0.8.1 in /opt/conda/envs/saturn/lib/python3.9/site-packages (from spacy<3.3.0,>=3.2.0->en-core-web-sm==3.2.0) (0.9.0)\n",
      "Requirement already satisfied: jinja2 in /opt/conda/envs/saturn/lib/python3.9/site-packages (from spacy<3.3.0,>=3.2.0->en-core-web-sm==3.2.0) (3.0.3)\n",
      "Requirement already satisfied: blis<0.8.0,>=0.4.0 in /opt/conda/envs/saturn/lib/python3.9/site-packages (from spacy<3.3.0,>=3.2.0->en-core-web-sm==3.2.0) (0.7.5)\n",
      "Requirement already satisfied: spacy-loggers<2.0.0,>=1.0.0 in /opt/conda/envs/saturn/lib/python3.9/site-packages (from spacy<3.3.0,>=3.2.0->en-core-web-sm==3.2.0) (1.0.1)\n",
      "Requirement already satisfied: thinc<8.1.0,>=8.0.12 in /opt/conda/envs/saturn/lib/python3.9/site-packages (from spacy<3.3.0,>=3.2.0->en-core-web-sm==3.2.0) (8.0.13)\n",
      "Requirement already satisfied: setuptools in /opt/conda/envs/saturn/lib/python3.9/site-packages (from spacy<3.3.0,>=3.2.0->en-core-web-sm==3.2.0) (59.7.0)\n",
      "Requirement already satisfied: srsly<3.0.0,>=2.4.1 in /opt/conda/envs/saturn/lib/python3.9/site-packages (from spacy<3.3.0,>=3.2.0->en-core-web-sm==3.2.0) (2.4.2)\n",
      "Requirement already satisfied: packaging>=20.0 in /opt/conda/envs/saturn/lib/python3.9/site-packages (from spacy<3.3.0,>=3.2.0->en-core-web-sm==3.2.0) (21.3)\n",
      "Requirement already satisfied: pyparsing!=3.0.5,>=2.0.2 in /opt/conda/envs/saturn/lib/python3.9/site-packages (from packaging>=20.0->spacy<3.3.0,>=3.2.0->en-core-web-sm==3.2.0) (3.0.6)\n",
      "Requirement already satisfied: smart-open<6.0.0,>=5.0.0 in /opt/conda/envs/saturn/lib/python3.9/site-packages (from pathy>=0.3.5->spacy<3.3.0,>=3.2.0->en-core-web-sm==3.2.0) (5.2.1)\n",
      "Requirement already satisfied: typing-extensions>=3.7.4.3 in /opt/conda/envs/saturn/lib/python3.9/site-packages (from pydantic!=1.8,!=1.8.1,<1.9.0,>=1.7.4->spacy<3.3.0,>=3.2.0->en-core-web-sm==3.2.0) (4.0.1)\n",
      "Requirement already satisfied: certifi>=2017.4.17 in /opt/conda/envs/saturn/lib/python3.9/site-packages (from requests<3.0.0,>=2.13.0->spacy<3.3.0,>=3.2.0->en-core-web-sm==3.2.0) (2021.10.8)\n",
      "Requirement already satisfied: charset-normalizer~=2.0.0 in /opt/conda/envs/saturn/lib/python3.9/site-packages (from requests<3.0.0,>=2.13.0->spacy<3.3.0,>=3.2.0->en-core-web-sm==3.2.0) (2.0.10)\n",
      "Requirement already satisfied: idna<4,>=2.5 in /opt/conda/envs/saturn/lib/python3.9/site-packages (from requests<3.0.0,>=2.13.0->spacy<3.3.0,>=3.2.0->en-core-web-sm==3.2.0) (3.1)\n",
      "Requirement already satisfied: urllib3<1.27,>=1.21.1 in /opt/conda/envs/saturn/lib/python3.9/site-packages (from requests<3.0.0,>=2.13.0->spacy<3.3.0,>=3.2.0->en-core-web-sm==3.2.0) (1.26.8)\n",
      "Requirement already satisfied: click<9.0.0,>=7.1.1 in /opt/conda/envs/saturn/lib/python3.9/site-packages (from typer<0.5.0,>=0.3.0->spacy<3.3.0,>=3.2.0->en-core-web-sm==3.2.0) (8.0.3)\n",
      "Requirement already satisfied: MarkupSafe>=2.0 in /opt/conda/envs/saturn/lib/python3.9/site-packages (from jinja2->spacy<3.3.0,>=3.2.0->en-core-web-sm==3.2.0) (2.0.1)\n",
      "\u001b[38;5;2m✔ Download and installation successful\u001b[0m\n",
      "You can now load the package via spacy.load('en_core_web_sm')\n",
      "Requirement already satisfied: wordcloud in /opt/conda/envs/saturn/lib/python3.9/site-packages (1.8.1)\n",
      "Requirement already satisfied: numpy>=1.6.1 in /opt/conda/envs/saturn/lib/python3.9/site-packages (from wordcloud) (1.20.3)\n",
      "Requirement already satisfied: matplotlib in /opt/conda/envs/saturn/lib/python3.9/site-packages (from wordcloud) (3.5.1)\n",
      "Requirement already satisfied: pillow in /opt/conda/envs/saturn/lib/python3.9/site-packages (from wordcloud) (8.4.0)\n",
      "Requirement already satisfied: fonttools>=4.22.0 in /opt/conda/envs/saturn/lib/python3.9/site-packages (from matplotlib->wordcloud) (4.28.5)\n",
      "Requirement already satisfied: pyparsing>=2.2.1 in /opt/conda/envs/saturn/lib/python3.9/site-packages (from matplotlib->wordcloud) (3.0.6)\n",
      "Requirement already satisfied: packaging>=20.0 in /opt/conda/envs/saturn/lib/python3.9/site-packages (from matplotlib->wordcloud) (21.3)\n",
      "Requirement already satisfied: python-dateutil>=2.7 in /opt/conda/envs/saturn/lib/python3.9/site-packages (from matplotlib->wordcloud) (2.8.2)\n",
      "Requirement already satisfied: cycler>=0.10 in /opt/conda/envs/saturn/lib/python3.9/site-packages (from matplotlib->wordcloud) (0.11.0)\n",
      "Requirement already satisfied: kiwisolver>=1.0.1 in /opt/conda/envs/saturn/lib/python3.9/site-packages (from matplotlib->wordcloud) (1.3.2)\n",
      "Requirement already satisfied: six>=1.5 in /opt/conda/envs/saturn/lib/python3.9/site-packages (from python-dateutil>=2.7->matplotlib->wordcloud) (1.16.0)\n",
      "Requirement already satisfied: pyLDAvis in /opt/conda/envs/saturn/lib/python3.9/site-packages (3.3.1)\n",
      "Requirement already satisfied: pandas>=1.2.0 in /opt/conda/envs/saturn/lib/python3.9/site-packages (from pyLDAvis) (1.3.5)\n",
      "Requirement already satisfied: numpy>=1.20.0 in /opt/conda/envs/saturn/lib/python3.9/site-packages (from pyLDAvis) (1.20.3)\n",
      "Requirement already satisfied: funcy in /opt/conda/envs/saturn/lib/python3.9/site-packages (from pyLDAvis) (1.17)\n",
      "Requirement already satisfied: jinja2 in /opt/conda/envs/saturn/lib/python3.9/site-packages (from pyLDAvis) (3.0.3)\n",
      "Requirement already satisfied: future in /opt/conda/envs/saturn/lib/python3.9/site-packages (from pyLDAvis) (0.18.2)\n",
      "Requirement already satisfied: setuptools in /opt/conda/envs/saturn/lib/python3.9/site-packages (from pyLDAvis) (59.7.0)\n",
      "Requirement already satisfied: scipy in /opt/conda/envs/saturn/lib/python3.9/site-packages (from pyLDAvis) (1.7.3)\n",
      "Requirement already satisfied: scikit-learn in /opt/conda/envs/saturn/lib/python3.9/site-packages (from pyLDAvis) (1.0.2)\n",
      "Requirement already satisfied: sklearn in /opt/conda/envs/saturn/lib/python3.9/site-packages (from pyLDAvis) (0.0)\n",
      "Requirement already satisfied: gensim in /opt/conda/envs/saturn/lib/python3.9/site-packages (from pyLDAvis) (4.1.2)\n",
      "Requirement already satisfied: numexpr in /opt/conda/envs/saturn/lib/python3.9/site-packages (from pyLDAvis) (2.8.1)\n",
      "Requirement already satisfied: joblib in /opt/conda/envs/saturn/lib/python3.9/site-packages (from pyLDAvis) (1.1.0)\n",
      "Requirement already satisfied: python-dateutil>=2.7.3 in /opt/conda/envs/saturn/lib/python3.9/site-packages (from pandas>=1.2.0->pyLDAvis) (2.8.2)\n",
      "Requirement already satisfied: pytz>=2017.3 in /opt/conda/envs/saturn/lib/python3.9/site-packages (from pandas>=1.2.0->pyLDAvis) (2021.3)\n",
      "Requirement already satisfied: smart-open>=1.8.1 in /opt/conda/envs/saturn/lib/python3.9/site-packages (from gensim->pyLDAvis) (5.2.1)\n",
      "Requirement already satisfied: MarkupSafe>=2.0 in /opt/conda/envs/saturn/lib/python3.9/site-packages (from jinja2->pyLDAvis) (2.0.1)\n",
      "Requirement already satisfied: packaging in /opt/conda/envs/saturn/lib/python3.9/site-packages (from numexpr->pyLDAvis) (21.3)\n",
      "Requirement already satisfied: threadpoolctl>=2.0.0 in /opt/conda/envs/saturn/lib/python3.9/site-packages (from scikit-learn->pyLDAvis) (3.0.0)\n",
      "Requirement already satisfied: six>=1.5 in /opt/conda/envs/saturn/lib/python3.9/site-packages (from python-dateutil>=2.7.3->pandas>=1.2.0->pyLDAvis) (1.16.0)\n",
      "Requirement already satisfied: pyparsing!=3.0.5,>=2.0.2 in /opt/conda/envs/saturn/lib/python3.9/site-packages (from packaging->numexpr->pyLDAvis) (3.0.6)\n"
     ]
    },
    {
     "name": "stderr",
     "output_type": "stream",
     "text": [
      "[nltk_data] Downloading package omw-1.4 to /home/jovyan/nltk_data...\n",
      "[nltk_data]   Package omw-1.4 is already up-to-date!\n",
      "[nltk_data] Downloading package wordnet to /home/jovyan/nltk_data...\n",
      "[nltk_data]   Package wordnet is already up-to-date!\n",
      "[nltk_data] Downloading package stopwords to /home/jovyan/nltk_data...\n",
      "[nltk_data]   Package stopwords is already up-to-date!\n"
     ]
    }
   ],
   "source": [
    "!pip install spacy\n",
    "!pip install nltk\n",
    "!pip install gensim\n",
    "!python -m spacy download en_core_web_sm \n",
    "!pip install wordcloud\n",
    "!pip install pyLDAvis\n",
    "# os\n",
    "import os \n",
    "\n",
    "# Pandas\n",
    "import pandas as pd\n",
    "\n",
    "# Spacy\n",
    "import spacy\n",
    "from spacy.lang.en import English\n",
    "\n",
    "# NLTK\n",
    "import nltk\n",
    "from nltk.corpus import wordnet as wn\n",
    "from nltk.stem.wordnet import WordNetLemmatizer\n",
    "nltk.download('omw-1.4')\n",
    "\n",
    "# Gensim\n",
    "import gensim\n",
    "from gensim import corpora\n",
    "\n",
    "# Numpy\n",
    "import numpy as np\n",
    "\n",
    "# Pickle\n",
    "import pickle\n",
    "\n",
    "# Itertools\n",
    "import itertools\n",
    "\n",
    "# Util\n",
    "import random\n",
    "spacy.load('en_core_web_sm')\n",
    "parser = English()\n",
    "\n",
    "# Set up log to terminal\n",
    "import logging\n",
    "# logging.basicConfig(format='%(asctime)s : %(levelname)s : %(message)s', level=logging.INFO)\n",
    "\n",
    "# # Code to read csv file into Colaboratory:\n",
    "# !pip install -U -q PyDrive\n",
    "# from pydrive.auth import GoogleAuth\n",
    "# from pydrive.drive import GoogleDrive as ggdrive\n",
    "# from google.colab import auth\n",
    "# from oauth2client.client import GoogleCredentials\n",
    "# # Authenticate and create the PyDrive client.\n",
    "# auth.authenticate_user()\n",
    "# gauth = GoogleAuth()\n",
    "# gauth.credentials = GoogleCredentials.get_application_default()\n",
    "# gdrive = ggdrive(gauth)\n",
    "\n",
    "# from google.colab import drive as colabdrive\n",
    "# colabdrive.mount('/content/gdrive')\n",
    "\n",
    "nltk.download('wordnet')\n",
    "\n",
    "wnLemmatizer = WordNetLemmatizer()\n",
    "\n",
    "nltk.download('stopwords')\n",
    "en_stop = set(nltk.corpus.stopwords.words('english'))\n",
    "\n",
    "parser = English()"
   ]
  },
  {
   "cell_type": "markdown",
   "id": "cae75059",
   "metadata": {
    "id": "cae75059"
   },
   "source": [
    "# Read and write functions"
   ]
  },
  {
   "cell_type": "markdown",
   "id": "e27e1cec",
   "metadata": {},
   "source": [
    "#### Read CSV into DataFrame"
   ]
  },
  {
   "cell_type": "code",
   "execution_count": 2,
   "id": "baf1f3fe",
   "metadata": {
    "execution": {
     "iopub.execute_input": "2022-02-07T00:06:10.342977Z",
     "iopub.status.busy": "2022-02-07T00:06:10.341473Z",
     "iopub.status.idle": "2022-02-07T00:06:10.349076Z",
     "shell.execute_reply": "2022-02-07T00:06:10.348298Z",
     "shell.execute_reply.started": "2022-02-07T00:06:10.342935Z"
    },
    "id": "baf1f3fe",
    "tags": []
   },
   "outputs": [],
   "source": [
    "def read_data(file_name, nrows=None):\n",
    "    if isinstance(file_name, list):\n",
    "        data = pd.DataFrame()\n",
    "        for file in file_name:\n",
    "            chunk = pd.read_csv(file, nrows=nrows)\n",
    "            data = data.append(chunk, ignore_index=True)\n",
    "    else:\n",
    "        data = pd.read_csv(file_name, nrows=nrows)\n",
    "    return data"
   ]
  },
  {
   "cell_type": "markdown",
   "id": "c460fc96",
   "metadata": {},
   "source": [
    "#### Read CSV into DataFrame (Google Drive)"
   ]
  },
  {
   "cell_type": "code",
   "execution_count": 3,
   "id": "1c491097",
   "metadata": {
    "execution": {
     "iopub.execute_input": "2022-02-07T00:06:10.350844Z",
     "iopub.status.busy": "2022-02-07T00:06:10.350229Z",
     "iopub.status.idle": "2022-02-07T00:06:10.355648Z",
     "shell.execute_reply": "2022-02-07T00:06:10.354917Z",
     "shell.execute_reply.started": "2022-02-07T00:06:10.350807Z"
    },
    "tags": []
   },
   "outputs": [],
   "source": [
    "def read_data_ggdrive(file_name, file_id):\n",
    "    print(f'Start reading file {file_name}')\n",
    "    downloaded = ggdrive.CreateFile({'id':file_id}) \n",
    "    downloaded.GetContentFile(file_name)  \n",
    "    data = pd.read_csv(file_name)\n",
    "    print(f'Read {data.size} rows from file {file_name}')\n",
    "    return data"
   ]
  },
  {
   "cell_type": "code",
   "execution_count": 4,
   "id": "49db8021",
   "metadata": {
    "execution": {
     "iopub.execute_input": "2022-02-07T00:06:10.357604Z",
     "iopub.status.busy": "2022-02-07T00:06:10.357323Z",
     "iopub.status.idle": "2022-02-07T00:06:10.364425Z",
     "shell.execute_reply": "2022-02-07T00:06:10.363667Z",
     "shell.execute_reply.started": "2022-02-07T00:06:10.357576Z"
    },
    "id": "49db8021",
    "tags": []
   },
   "outputs": [],
   "source": [
    "def summary_data(data):\n",
    "    print(\"# rows: \", data.size)\n",
    "    data_left_leaning = data.loc[data['political_leaning'] == \"LEFT\"]\n",
    "    print(\"# articles left leaning: \", data_left_leaning.size)\n",
    "\n",
    "    data_right_leaning = data.loc[data['political_leaning'] == \"RIGHT\"]\n",
    "    print(\"# articles right leaning: \", data_right_leaning.size)\n",
    "\n",
    "    data_center_leaning = data.loc[data['political_leaning'] == \"CENTER\"]\n",
    "    print(\"# articles center leaning: \", data_center_leaning.size)\n",
    "\n",
    "    data_undefined_leaning = data.loc[data['political_leaning'] == \"UNDEFINED\"]\n",
    "    print(\"# articles undefined leaning: \", data_center_leaning.size)\n",
    "\n",
    "\n",
    "    total = data_left_leaning.size + data_right_leaning.size + data_center_leaning.size + data_undefined_leaning.size\n",
    "    print(\"# total: \", total)"
   ]
  },
  {
   "cell_type": "markdown",
   "id": "shzByjBCdswW",
   "metadata": {
    "id": "shzByjBCdswW"
   },
   "source": [
    "#### Funcs: Read corpus and dictionary from GG Drive and local file"
   ]
  },
  {
   "cell_type": "code",
   "execution_count": 5,
   "id": "R7aHXU_SNx9z",
   "metadata": {
    "execution": {
     "iopub.execute_input": "2022-02-07T00:06:10.366046Z",
     "iopub.status.busy": "2022-02-07T00:06:10.365791Z",
     "iopub.status.idle": "2022-02-07T00:06:10.377295Z",
     "shell.execute_reply": "2022-02-07T00:06:10.376529Z",
     "shell.execute_reply.started": "2022-02-07T00:06:10.366014Z"
    },
    "id": "R7aHXU_SNx9z",
    "tags": []
   },
   "outputs": [],
   "source": [
    "def load_corpus(filename='', fileid=\"\", ggdrive=None):\n",
    "    if len(filename) == 0:\n",
    "        raise Exception('invalid file name')\n",
    "    if ggdrive is not None:\n",
    "        if len(fileid) == 0:\n",
    "            raise Exception('invalid file id')\n",
    "        downloaded = ggdrive.CreateFile({'id':fileid}) \n",
    "        downloaded.GetContentFile(filename)  \n",
    "    with open(filename, 'rb') as handle:\n",
    "        corpus = pickle.load(handle)\n",
    "    print(f'Corpus loaded from file {filename}')\n",
    "    return corpus\n",
    "\n",
    "def load_dictionary(filename='', fileid=\"\", ggdrive=None):\n",
    "    if len(filename) == 0:\n",
    "        raise Exception('invalid file name')        \n",
    "    if ggdrive is not None:    \n",
    "        if len(fileid) == 0:\n",
    "            raise Exception('invalid file id')\n",
    "        downloaded = ggdrive.CreateFile({'id':fileid}) \n",
    "        downloaded.GetContentFile(filename)  \n",
    "    dictionary = corpora.Dictionary.load(filename)\n",
    "    print(f'Dictionary loaded from file {filename}')\n",
    "    return dictionary\n",
    "\n",
    "def load_model(filename='', fileid='', ggdrive=None):\n",
    "    if len(filename) == 0:\n",
    "        raise Exception('invalid file name')        \n",
    "    if ggdrive is not None:    \n",
    "        if len(fileid) == 0:\n",
    "            raise Exception('invalid file id')\n",
    "        downloaded = ggdrive.CreateFile({'id':fileid}) \n",
    "        downloaded.GetContentFile(filename)  \n",
    "    model = gensim.models.ldamodel.LdaModel.load(filename)\n",
    "    print(f'Model loaded from file {filename}')\n",
    "    return model"
   ]
  },
  {
   "cell_type": "markdown",
   "id": "29348ff7-5edb-4091-8843-ed3bb1a3178e",
   "metadata": {},
   "source": [
    "# Load model, corpus and dictionary"
   ]
  },
  {
   "cell_type": "code",
   "execution_count": 6,
   "id": "c2c97aef-fcc2-444e-aaf0-b84d2a173edd",
   "metadata": {
    "execution": {
     "iopub.execute_input": "2022-02-07T00:06:10.379737Z",
     "iopub.status.busy": "2022-02-07T00:06:10.378363Z",
     "iopub.status.idle": "2022-02-07T00:06:11.500930Z",
     "shell.execute_reply": "2022-02-07T00:06:11.500088Z",
     "shell.execute_reply.started": "2022-02-07T00:06:10.379699Z"
    },
    "tags": []
   },
   "outputs": [
    {
     "name": "stdout",
     "output_type": "stream",
     "text": [
      "Model loaded from file task1_lda.gensim\n"
     ]
    }
   ],
   "source": [
    "# Model\n",
    "model = load_model('task1_lda.gensim')"
   ]
  },
  {
   "cell_type": "code",
   "execution_count": 7,
   "id": "0c607ffe-562e-4ce2-886c-5967a48ddf3e",
   "metadata": {
    "execution": {
     "iopub.execute_input": "2022-02-07T00:06:11.503958Z",
     "iopub.status.busy": "2022-02-07T00:06:11.502161Z",
     "iopub.status.idle": "2022-02-07T00:06:59.541632Z",
     "shell.execute_reply": "2022-02-07T00:06:59.540777Z",
     "shell.execute_reply.started": "2022-02-07T00:06:11.503912Z"
    },
    "tags": []
   },
   "outputs": [
    {
     "name": "stdout",
     "output_type": "stream",
     "text": [
      "Corpus loaded from file Task1_corpus_full.pkl\n"
     ]
    }
   ],
   "source": [
    "# Corpus\n",
    "corpus = load_corpus('Task1_corpus_full.pkl')"
   ]
  },
  {
   "cell_type": "code",
   "execution_count": 8,
   "id": "a0aac532-a2ee-46b6-8772-2ff25e546d76",
   "metadata": {
    "execution": {
     "iopub.execute_input": "2022-02-07T00:06:59.543281Z",
     "iopub.status.busy": "2022-02-07T00:06:59.542915Z",
     "iopub.status.idle": "2022-02-07T00:07:00.332270Z",
     "shell.execute_reply": "2022-02-07T00:07:00.331582Z",
     "shell.execute_reply.started": "2022-02-07T00:06:59.543244Z"
    },
    "tags": []
   },
   "outputs": [
    {
     "name": "stdout",
     "output_type": "stream",
     "text": [
      "Dictionary loaded from file Task1_dictionary_full.gensim\n"
     ]
    }
   ],
   "source": [
    "# Dictionary\n",
    "dictionary = load_dictionary('Task1_dictionary_full.gensim')"
   ]
  },
  {
   "cell_type": "markdown",
   "id": "2a44fc00-2319-4fdd-b5be-486d1ee5971d",
   "metadata": {},
   "source": [
    "# Simple printout"
   ]
  },
  {
   "cell_type": "code",
   "execution_count": 9,
   "id": "633f5689",
   "metadata": {
    "execution": {
     "iopub.execute_input": "2022-02-07T00:07:00.333585Z",
     "iopub.status.busy": "2022-02-07T00:07:00.333390Z",
     "iopub.status.idle": "2022-02-07T00:07:00.337856Z",
     "shell.execute_reply": "2022-02-07T00:07:00.337083Z",
     "shell.execute_reply.started": "2022-02-07T00:07:00.333560Z"
    },
    "id": "633f5689",
    "tags": []
   },
   "outputs": [],
   "source": [
    "def print_topics(model, print_num_topics=15, print_num_words=4):\n",
    "    topics = model.print_topics(num_topics=print_num_topics, num_words=print_num_words)\n",
    "    print(f'Here are the top {print_num_topics} with #{print_num_words} words per topic')\n",
    "    for topic in topics:\n",
    "        print(topic)"
   ]
  },
  {
   "cell_type": "code",
   "execution_count": 10,
   "id": "1734cccc-daea-4b88-965d-6b4863f51cf3",
   "metadata": {
    "execution": {
     "iopub.execute_input": "2022-02-07T00:07:00.340150Z",
     "iopub.status.busy": "2022-02-07T00:07:00.339854Z",
     "iopub.status.idle": "2022-02-07T00:07:01.201144Z",
     "shell.execute_reply": "2022-02-07T00:07:01.200278Z",
     "shell.execute_reply.started": "2022-02-07T00:07:00.340123Z"
    },
    "tags": []
   },
   "outputs": [
    {
     "name": "stdout",
     "output_type": "stream",
     "text": [
      "Here are the top 100 with #10 words per topic\n",
      "(0, '0.082*\"apple\" + 0.062*\"spanish\" + 0.038*\"carrie\" + 0.034*\"casino\" + 0.032*\"gates\" + 0.031*\"argentina\" + 0.029*\"spain\" + 0.025*\"swiss\" + 0.024*\"iphone\" + 0.023*\"vega\"')\n",
      "(1, '0.028*\"people\" + 0.026*\"number\" + 0.023*\"report\" + 0.022*\"population\" + 0.022*\"increase\" + 0.017*\"accord\" + 0.016*\"years\" + 0.015*\"census\" + 0.012*\"since\" + 0.012*\"country\"')\n",
      "(2, '0.053*\"right\" + 0.027*\"gender\" + 0.027*\"people\" + 0.021*\"religious\" + 0.020*\"discrimination\" + 0.017*\"freedom\" + 0.017*\"marriage\" + 0.017*\"lgbtq\" + 0.017*\"transgender\" + 0.015*\"identity\"')\n",
      "(3, '0.038*\"president\" + 0.036*\"event\" + 0.034*\"first\" + 0.023*\"visit\" + 0.018*\"speech\" + 0.014*\"state\" + 0.013*\"washington\" + 0.012*\"attend\" + 0.011*\"photo\" + 0.011*\"former\"')\n",
      "(4, '0.165*\"israel\" + 0.063*\"israeli\" + 0.059*\"jewish\" + 0.056*\"palestinian\" + 0.028*\"netanyahu\" + 0.018*\"benjamin\" + 0.016*\"jerusalem\" + 0.016*\"state\" + 0.014*\"minister\" + 0.014*\"semitism\"')\n",
      "(5, '0.024*\"government\" + 0.024*\"australia\" + 0.015*\"australian\" + 0.015*\"guardian\" + 0.012*\"would\" + 0.010*\"london\" + 0.010*\"england\" + 0.010*\"centre\" + 0.009*\"support\" + 0.009*\"wales\"')\n",
      "(6, '0.066*\"party\" + 0.033*\"minister\" + 0.029*\"government\" + 0.024*\"election\" + 0.023*\"prime\" + 0.022*\"leader\" + 0.016*\"political\" + 0.015*\"opposition\" + 0.014*\"parliament\" + 0.013*\"country\"')\n",
      "(7, '0.221*\"trump\" + 0.112*\"president\" + 0.040*\"donald\" + 0.030*\"white\" + 0.024*\"house\" + 0.017*\"tweet\" + 0.009*\"press\" + 0.008*\"reporter\" + 0.008*\"comment\" + 0.007*\"call\"')\n",
      "(8, '0.042*\"study\" + 0.031*\"research\" + 0.023*\"researcher\" + 0.018*\"found\" + 0.018*\"university\" + 0.014*\"could\" + 0.014*\"science\" + 0.014*\"scientist\" + 0.009*\"institute\" + 0.009*\"human\"')\n",
      "(9, '0.063*\"mining\" + 0.062*\"anderson\" + 0.051*\"metal\" + 0.047*\"jerome\" + 0.043*\"miner\" + 0.031*\"porter\" + 0.031*\"burns\" + 0.031*\"brooks\" + 0.030*\"andrea\" + 0.030*\"copper\"')\n",
      "(10, '0.032*\"abuse\" + 0.031*\"victim\" + 0.030*\"sexual\" + 0.025*\"allegation\" + 0.022*\"assault\" + 0.019*\"report\" + 0.016*\"investigation\" + 0.016*\"allege\" + 0.014*\"accused\" + 0.013*\"claim\"')\n",
      "(11, '0.116*\"trump\" + 0.088*\"president\" + 0.064*\"administration\" + 0.039*\"american\" + 0.039*\"obama\" + 0.032*\"policy\" + 0.020*\"america\" + 0.014*\"donald\" + 0.011*\"barack\" + 0.010*\"former\"')\n",
      "(12, '0.119*\"india\" + 0.086*\"indian\" + 0.073*\"veteran\" + 0.054*\"pakistan\" + 0.038*\"service\" + 0.017*\"delhi\" + 0.017*\"marine\" + 0.016*\"hindu\" + 0.015*\"serve\" + 0.014*\"papua\"')\n",
      "(13, '0.052*\"charge\" + 0.027*\"prosecutor\" + 0.024*\"court\" + 0.021*\"sentence\" + 0.020*\"crime\" + 0.020*\"trial\" + 0.019*\"arrest\" + 0.016*\"criminal\" + 0.014*\"guilty\" + 0.014*\"murder\"')\n",
      "(14, '0.075*\"financial\" + 0.054*\"credit\" + 0.046*\"banks\" + 0.028*\"loan\" + 0.023*\"banking\" + 0.021*\"treasury\" + 0.021*\"morgan\" + 0.017*\"lender\" + 0.017*\"business\" + 0.016*\"customer\"')\n",
      "(15, '0.079*\"protest\" + 0.054*\"protester\" + 0.033*\"people\" + 0.021*\"rally\" + 0.021*\"activist\" + 0.021*\"group\" + 0.016*\"street\" + 0.016*\"movement\" + 0.015*\"march\" + 0.014*\"demonstration\"')\n",
      "(16, '0.053*\"register\" + 0.034*\"rating\" + 0.028*\"audit\" + 0.025*\"registration\" + 0.012*\"rate\" + 0.012*\"bailey\" + 0.011*\"borrower\" + 0.010*\"supervise\" + 0.010*\"auditor\" + 0.010*\"wallet\"')\n",
      "(17, '0.120*\"general\" + 0.118*\"attorney\" + 0.107*\"justice\" + 0.090*\"department\" + 0.025*\"william\" + 0.022*\"criminal\" + 0.019*\"judiciary\" + 0.017*\"office\" + 0.013*\"sessions\" + 0.011*\"vaping\"')\n",
      "(18, '0.011*\"political\" + 0.007*\"would\" + 0.006*\"power\" + 0.005*\"public\" + 0.005*\"become\" + 0.005*\"right\" + 0.004*\"world\" + 0.004*\"point\" + 0.004*\"might\" + 0.004*\"politics\"')\n",
      "(19, '0.063*\"medium\" + 0.049*\"advertisement\" + 0.046*\"social\" + 0.043*\"click\" + 0.024*\"platform\" + 0.024*\"network\" + 0.024*\"online\" + 0.023*\"information\" + 0.021*\"content\" + 0.019*\"user\"')\n",
      "(20, '0.015*\"system\" + 0.011*\"community\" + 0.009*\"create\" + 0.008*\"support\" + 0.007*\"focus\" + 0.007*\"challenge\" + 0.007*\"change\" + 0.007*\"future\" + 0.007*\"need\" + 0.007*\"project\"')\n",
      "(21, '0.093*\"island\" + 0.032*\"species\" + 0.031*\"plastic\" + 0.026*\"waters\" + 0.023*\"forest\" + 0.021*\"hunter\" + 0.019*\"wildlife\" + 0.019*\"coast\" + 0.018*\"ocean\" + 0.015*\"pacific\"')\n",
      "(22, '0.177*\"child\" + 0.113*\"family\" + 0.047*\"parent\" + 0.037*\"mother\" + 0.034*\"young\" + 0.028*\"father\" + 0.022*\"daughter\" + 0.022*\"girl\" + 0.013*\"jones\" + 0.013*\"husband\"')\n",
      "(23, '0.063*\"election\" + 0.054*\"voter\" + 0.040*\"candidate\" + 0.026*\"campaign\" + 0.019*\"state\" + 0.015*\"republican\" + 0.015*\"party\" + 0.013*\"polls\" + 0.012*\"voting\" + 0.012*\"democrat\"')\n",
      "(24, '0.062*\"health\" + 0.034*\"patient\" + 0.031*\"hospital\" + 0.030*\"medical\" + 0.024*\"doctor\" + 0.022*\"mental\" + 0.019*\"treatment\" + 0.016*\"cancer\" + 0.015*\"disease\" + 0.011*\"suicide\"')\n",
      "(25, '0.037*\"iranian\" + 0.019*\"syria\" + 0.018*\"kashmir\" + 0.016*\"state\" + 0.015*\"region\" + 0.014*\"turkey\" + 0.012*\"tehran\" + 0.011*\"government\" + 0.009*\"force\" + 0.009*\"group\"')\n",
      "(26, '0.176*\"county\" + 0.094*\"florida\" + 0.047*\"sheriff\" + 0.044*\"puerto\" + 0.039*\"office\" + 0.033*\"governor\" + 0.032*\"beach\" + 0.032*\"miami\" + 0.028*\"state\" + 0.025*\"deputy\"')\n",
      "(27, '0.076*\"security\" + 0.058*\"official\" + 0.041*\"state\" + 0.037*\"national\" + 0.036*\"foreign\" + 0.026*\"government\" + 0.023*\"intelligence\" + 0.022*\"castro\" + 0.018*\"unite\" + 0.014*\"secretary\"')\n",
      "(28, '0.097*\"european\" + 0.071*\"france\" + 0.065*\"germany\" + 0.063*\"europe\" + 0.059*\"french\" + 0.055*\"german\" + 0.035*\"italy\" + 0.029*\"italian\" + 0.021*\"union\" + 0.018*\"euro\"')\n",
      "(29, '0.065*\"immigration\" + 0.039*\"immigrant\" + 0.037*\"migrant\" + 0.028*\"border\" + 0.023*\"asylum\" + 0.022*\"illegal\" + 0.020*\"country\" + 0.017*\"citizenship\" + 0.013*\"policy\" + 0.012*\"american\"')\n",
      "(30, '0.083*\"vehicle\" + 0.064*\"driver\" + 0.030*\"driving\" + 0.029*\"tesla\" + 0.028*\"electric\" + 0.027*\"truck\" + 0.019*\"model\" + 0.017*\"motor\" + 0.016*\"battery\" + 0.013*\"license\"')\n",
      "(31, '0.046*\"people\" + 0.013*\"emergency\" + 0.010*\"crisis\" + 0.009*\"shelter\" + 0.009*\"refugee\" + 0.009*\"month\" + 0.009*\"homeless\" + 0.008*\"thousand\" + 0.008*\"rescue\" + 0.007*\"cannabis\"')\n",
      "(32, '0.044*\"market\" + 0.023*\"investor\" + 0.022*\"trade\" + 0.020*\"index\" + 0.019*\"currency\" + 0.018*\"stock\" + 0.018*\"yield\" + 0.017*\"dollar\" + 0.017*\"stocks\" + 0.015*\"reuters\"')\n",
      "(33, '0.330*\"mayor\" + 0.099*\"penny\" + 0.053*\"indiana\" + 0.023*\"keith\" + 0.022*\"pittsburgh\" + 0.020*\"cornish\" + 0.020*\"karen\" + 0.015*\"ticket\" + 0.013*\"constable\" + 0.012*\"mayoral\"')\n",
      "(34, '0.118*\"border\" + 0.060*\"mexico\" + 0.031*\"migrant\" + 0.030*\"mexican\" + 0.030*\"agent\" + 0.029*\"patrol\" + 0.022*\"venezuela\" + 0.019*\"texas\" + 0.018*\"maduro\" + 0.014*\"state\"')\n",
      "(35, '0.043*\"campaign\" + 0.026*\"clinton\" + 0.014*\"cohen\" + 0.014*\"conspiracy\" + 0.014*\"extradition\" + 0.013*\"indictment\" + 0.013*\"information\" + 0.011*\"report\" + 0.011*\"email\" + 0.011*\"leak\"')\n",
      "(36, '0.079*\"prison\" + 0.049*\"death\" + 0.045*\"detention\" + 0.043*\"brazil\" + 0.043*\"release\" + 0.040*\"facility\" + 0.028*\"inmate\" + 0.025*\"prisoner\" + 0.023*\"detain\" + 0.019*\"conditions\"')\n",
      "(37, '0.135*\"worker\" + 0.064*\"employee\" + 0.058*\"union\" + 0.056*\"labor\" + 0.024*\"employer\" + 0.023*\"working\" + 0.017*\"wages\" + 0.015*\"business\" + 0.015*\"minimum\" + 0.014*\"employment\"')\n",
      "(38, '0.040*\"people\" + 0.037*\"think\" + 0.030*\"would\" + 0.029*\"going\" + 0.016*\"really\" + 0.014*\"could\" + 0.013*\"right\" + 0.013*\"things\" + 0.012*\"something\" + 0.011*\"happen\"')\n",
      "(39, '0.130*\"japan\" + 0.068*\"japanese\" + 0.053*\"moore\" + 0.053*\"language\" + 0.038*\"english\" + 0.035*\"tokyo\" + 0.023*\"evans\" + 0.021*\"nelson\" + 0.019*\"foster\" + 0.015*\"bitcoin\"')\n",
      "(40, '0.306*\"mueller\" + 0.050*\"booker\" + 0.043*\"robert\" + 0.036*\"corruption\" + 0.024*\"allen\" + 0.020*\"investigation\" + 0.019*\"taylor\" + 0.017*\"swedish\" + 0.016*\"former\" + 0.016*\"proceedings\"')\n",
      "(41, '0.125*\"medium\" + 0.075*\"device\" + 0.075*\"alexandria\" + 0.073*\"virginia\" + 0.054*\"unsupported\" + 0.052*\"playback\" + 0.046*\"guatemala\" + 0.033*\"maria\" + 0.021*\"colombia\" + 0.019*\"marshall\"')\n",
      "(42, '0.064*\"million\" + 0.064*\"billion\" + 0.032*\"sales\" + 0.031*\"quarter\" + 0.025*\"share\" + 0.022*\"revenue\" + 0.019*\"report\" + 0.019*\"profit\" + 0.018*\"expect\" + 0.016*\"first\"')\n",
      "(43, '0.055*\"brexit\" + 0.045*\"johnson\" + 0.025*\"minister\" + 0.023*\"labour\" + 0.022*\"britain\" + 0.020*\"british\" + 0.020*\"prime\" + 0.020*\"boris\" + 0.016*\"would\" + 0.016*\"parliament\"')\n",
      "(44, '0.226*\"video\" + 0.068*\"johnson\" + 0.038*\"show\" + 0.028*\"watch\" + 0.025*\"camera\" + 0.024*\"footage\" + 0.014*\"post\" + 0.013*\"appear\" + 0.013*\"youtube\" + 0.012*\"interest\"')\n",
      "(45, '0.089*\"district\" + 0.072*\"board\" + 0.031*\"member\" + 0.019*\"meeting\" + 0.013*\"official\" + 0.013*\"petition\" + 0.010*\"community\" + 0.009*\"accord\" + 0.008*\"purdue\" + 0.008*\"library\"')\n",
      "(46, '0.030*\"former\" + 0.017*\"office\" + 0.016*\"director\" + 0.016*\"group\" + 0.015*\"chief\" + 0.015*\"staff\" + 0.014*\"member\" + 0.013*\"serve\" + 0.012*\"executive\" + 0.011*\"public\"')\n",
      "(47, '0.036*\"space\" + 0.031*\"airport\" + 0.025*\"flight\" + 0.018*\"plane\" + 0.018*\"drone\" + 0.015*\"aircraft\" + 0.014*\"train\" + 0.013*\"pilot\" + 0.013*\"mission\" + 0.012*\"crash\"')\n",
      "(48, '0.051*\"biden\" + 0.043*\"democratic\" + 0.032*\"candidate\" + 0.029*\"debate\" + 0.028*\"campaign\" + 0.028*\"sander\" + 0.027*\"democrat\" + 0.025*\"warren\" + 0.024*\"presidential\" + 0.021*\"harris\"')\n",
      "(49, '0.122*\"church\" + 0.056*\"christian\" + 0.046*\"catholic\" + 0.030*\"religious\" + 0.028*\"faith\" + 0.024*\"bishop\" + 0.023*\"williams\" + 0.019*\"pastor\" + 0.017*\"bible\" + 0.017*\"francis\"')\n",
      "(50, '0.064*\"state\" + 0.042*\"would\" + 0.022*\"legislation\" + 0.014*\"lawmaker\" + 0.013*\"proposal\" + 0.013*\"pass\" + 0.012*\"federal\" + 0.012*\"measure\" + 0.012*\"amendment\" + 0.011*\"allow\"')\n",
      "(51, '0.223*\"police\" + 0.128*\"officer\" + 0.036*\"arrest\" + 0.022*\"department\" + 0.016*\"crime\" + 0.015*\"force\" + 0.014*\"chief\" + 0.011*\"enforcement\" + 0.008*\"investigation\" + 0.008*\"suspect\"')\n",
      "(52, '0.092*\"senate\" + 0.048*\"cortez\" + 0.048*\"senator\" + 0.047*\"republican\" + 0.035*\"mcconnell\" + 0.024*\"committee\" + 0.023*\"hearing\" + 0.020*\"democrat\" + 0.018*\"graham\" + 0.017*\"mitch\"')\n",
      "(53, '0.067*\"country\" + 0.038*\"human\" + 0.037*\"international\" + 0.036*\"right\" + 0.026*\"government\" + 0.024*\"africa\" + 0.024*\"world\" + 0.021*\"nation\" + 0.016*\"south\" + 0.015*\"unite\"')\n",
      "(54, '0.080*\"climate\" + 0.050*\"change\" + 0.022*\"emission\" + 0.020*\"environmental\" + 0.019*\"green\" + 0.017*\"carbon\" + 0.015*\"global\" + 0.015*\"world\" + 0.012*\"greenland\" + 0.011*\"fire\"')\n",
      "(55, '0.058*\"property\" + 0.045*\"owner\" + 0.042*\"hotel\" + 0.041*\"business\" + 0.035*\"estate\" + 0.033*\"jersey\" + 0.024*\"restaurant\" + 0.023*\"manhattan\" + 0.014*\"private\" + 0.013*\"financier\"')\n",
      "(56, '0.175*\"china\" + 0.092*\"chinese\" + 0.037*\"beijing\" + 0.018*\"state\" + 0.014*\"government\" + 0.012*\"country\" + 0.012*\"mainland\" + 0.011*\"communist\" + 0.010*\"strait\" + 0.010*\"foreign\"')\n",
      "(57, '0.076*\"williamson\" + 0.048*\"welsh\" + 0.042*\"crown\" + 0.028*\"henry\" + 0.021*\"rebecca\" + 0.018*\"carson\" + 0.018*\"roundtable\" + 0.017*\"woods\" + 0.015*\"diamond\" + 0.015*\"lockdown\"')\n",
      "(58, '0.041*\"money\" + 0.025*\"income\" + 0.019*\"million\" + 0.018*\"budget\" + 0.017*\"spending\" + 0.016*\"government\" + 0.015*\"tax\" + 0.015*\"would\" + 0.013*\"benefit\" + 0.012*\"spend\"')\n",
      "(59, '0.181*\"SCREEN_NAME\" + 0.074*\"twitter\" + 0.058*\"tweet\" + 0.032*\"august\" + 0.030*\"follow\" + 0.030*\"breitbart\" + 0.020*\"comment\" + 0.018*\"write\" + 0.011*\"medium\" + 0.011*\"post\"')\n",
      "(60, '0.067*\"north\" + 0.060*\"nuclear\" + 0.055*\"korea\" + 0.035*\"south\" + 0.033*\"missile\" + 0.028*\"sanction\" + 0.027*\"korean\" + 0.026*\"weapon\" + 0.020*\"summit\" + 0.013*\"state\"')\n",
      "(61, '0.402*\"facebook\" + 0.148*\"google\" + 0.128*\"twitter\" + 0.043*\"search\" + 0.022*\"giant\" + 0.012*\"dairy\" + 0.008*\"embed\" + 0.007*\"alphabet\" + 0.007*\"weber\" + 0.007*\"mills\"')\n",
      "(62, '0.068*\"farmer\" + 0.048*\"animal\" + 0.034*\"agriculture\" + 0.028*\"rural\" + 0.017*\"chicken\" + 0.016*\"farm\" + 0.015*\"farming\" + 0.014*\"fishing\" + 0.014*\"agricultural\" + 0.013*\"crop\"')\n",
      "(63, '0.102*\"saudi\" + 0.075*\"tanker\" + 0.052*\"arabia\" + 0.038*\"nigeria\" + 0.034*\"prince\" + 0.025*\"yemen\" + 0.019*\"royal\" + 0.019*\"nigerian\" + 0.019*\"vessel\" + 0.017*\"kingdom\"')\n",
      "(64, '0.015*\"people\" + 0.011*\"often\" + 0.011*\"experience\" + 0.009*\"person\" + 0.007*\"issue\" + 0.007*\"might\" + 0.007*\"different\" + 0.006*\"individual\" + 0.006*\"question\" + 0.005*\"example\"')\n",
      "(65, '0.153*\"company\" + 0.033*\"reuters\" + 0.030*\"business\" + 0.020*\"investment\" + 0.020*\"executive\" + 0.016*\"investor\" + 0.013*\"group\" + 0.012*\"billion\" + 0.011*\"firm\" + 0.011*\"private\"')\n",
      "(66, '0.341*\"woman\" + 0.117*\"abortion\" + 0.030*\"female\" + 0.023*\"parenthood\" + 0.020*\"plan\" + 0.017*\"pregnancy\" + 0.016*\"clinic\" + 0.016*\"right\" + 0.014*\"birth\" + 0.014*\"congresswoman\"')\n",
      "(67, '0.246*\"percent\" + 0.035*\"point\" + 0.030*\"survey\" + 0.018*\"average\" + 0.017*\"month\" + 0.016*\"click\" + 0.013*\"show\" + 0.011*\"percentage\" + 0.010*\"report\" + 0.009*\"among\"')\n",
      "(68, '0.066*\"politico\" + 0.049*\"morning\" + 0.040*\"email\" + 0.035*\"newsletter\" + 0.034*\"story\" + 0.019*\"report\" + 0.015*\"house\" + 0.015*\"huffpost\" + 0.014*\"breaking\" + 0.013*\"miller\"')\n",
      "(69, '0.143*\"attack\" + 0.038*\"muslim\" + 0.030*\"group\" + 0.026*\"terrorist\" + 0.025*\"terrorism\" + 0.022*\"target\" + 0.019*\"threat\" + 0.018*\"people\" + 0.018*\"violence\" + 0.015*\"kill\"')\n",
      "(70, '0.131*\"defense\" + 0.129*\"impeachment\" + 0.058*\"gillibrand\" + 0.045*\"secretary\" + 0.036*\"pentagon\" + 0.033*\"impeach\" + 0.028*\"kirsten\" + 0.028*\"military\" + 0.026*\"obstruction\" + 0.026*\"president\"')\n",
      "(71, '0.090*\"house\" + 0.071*\"democrat\" + 0.046*\"republican\" + 0.039*\"congress\" + 0.031*\"pelosi\" + 0.020*\"speaker\" + 0.016*\"lawmaker\" + 0.016*\"senate\" + 0.016*\"congressional\" + 0.015*\"nancy\"')\n",
      "(72, '0.037*\"company\" + 0.029*\"amazon\" + 0.023*\"technology\" + 0.019*\"store\" + 0.013*\"customer\" + 0.011*\"product\" + 0.011*\"business\" + 0.010*\"consumer\" + 0.009*\"online\" + 0.009*\"phone\"')\n",
      "(73, '0.181*\"chicago\" + 0.107*\"illinois\" + 0.060*\"jackson\" + 0.054*\"tribune\" + 0.033*\"craig\" + 0.026*\"campbell\" + 0.025*\"mcdonald\" + 0.024*\"rouhani\" + 0.023*\"libya\" + 0.020*\"perez\"')\n",
      "(74, '0.091*\"military\" + 0.069*\"force\" + 0.030*\"afghanistan\" + 0.028*\"troops\" + 0.025*\"soldier\" + 0.024*\"taliban\" + 0.017*\"civilian\" + 0.015*\"afghan\" + 0.013*\"arm\" + 0.012*\"fighter\"')\n",
      "(75, '0.110*\"state\" + 0.045*\"texas\" + 0.022*\"carolina\" + 0.017*\"hurricane\" + 0.017*\"north\" + 0.016*\"mississippi\" + 0.015*\"south\" + 0.014*\"photo\" + 0.013*\"alabama\" + 0.012*\"federal\"')\n",
      "(76, '0.041*\"shooting\" + 0.018*\"police\" + 0.018*\"report\" + 0.017*\"kill\" + 0.012*\"people\" + 0.012*\"death\" + 0.012*\"suspect\" + 0.011*\"accord\" + 0.010*\"authorities\" + 0.010*\"victim\"')\n",
      "(77, '0.129*\"russia\" + 0.106*\"russian\" + 0.043*\"putin\" + 0.040*\"moscow\" + 0.021*\"ukraine\" + 0.020*\"vladimir\" + 0.016*\"sanction\" + 0.016*\"foreign\" + 0.015*\"soviet\" + 0.013*\"president\"')\n",
      "(78, '0.121*\"university\" + 0.110*\"student\" + 0.077*\"college\" + 0.028*\"professor\" + 0.027*\"school\" + 0.024*\"campus\" + 0.023*\"graduate\" + 0.016*\"degree\" + 0.015*\"harvard\" + 0.015*\"education\"')\n",
      "(79, '0.085*\"powell\" + 0.056*\"wilson\" + 0.048*\"earthquake\" + 0.041*\"watson\" + 0.040*\"kushner\" + 0.033*\"jar\" + 0.033*\"newark\" + 0.027*\"magnitude\" + 0.027*\"davidson\" + 0.026*\"glasgow\"')\n",
      "(80, '0.055*\"council\" + 0.046*\"housing\" + 0.037*\"resident\" + 0.034*\"local\" + 0.033*\"building\" + 0.021*\"home\" + 0.021*\"community\" + 0.017*\"build\" + 0.016*\"project\" + 0.015*\"street\"')\n",
      "(81, '0.043*\"committee\" + 0.038*\"report\" + 0.036*\"investigation\" + 0.025*\"counsel\" + 0.023*\"special\" + 0.022*\"house\" + 0.019*\"trump\" + 0.016*\"cummings\" + 0.015*\"testimony\" + 0.015*\"comey\"')\n",
      "(82, '0.246*\"california\" + 0.084*\"angeles\" + 0.053*\"brown\" + 0.048*\"francisco\" + 0.030*\"valley\" + 0.025*\"state\" + 0.019*\"times\" + 0.019*\"diego\" + 0.016*\"santa\" + 0.016*\"gavin\"')\n",
      "(83, '0.053*\"rule\" + 0.046*\"commission\" + 0.043*\"regulation\" + 0.032*\"standard\" + 0.027*\"industry\" + 0.019*\"protection\" + 0.016*\"regulator\" + 0.016*\"safety\" + 0.016*\"require\" + 0.014*\"group\"')\n",
      "(84, '0.028*\"smith\" + 0.023*\"michael\" + 0.021*\"baltimore\" + 0.018*\"boston\" + 0.016*\"daniel\" + 0.016*\"radio\" + 0.015*\"podcast\" + 0.011*\"award\" + 0.009*\"interview\" + 0.009*\"watch\"')\n",
      "(85, '0.068*\"health\" + 0.045*\"program\" + 0.035*\"insurance\" + 0.024*\"medicare\" + 0.022*\"would\" + 0.015*\"plan\" + 0.013*\"private\" + 0.013*\"american\" + 0.013*\"coverage\" + 0.013*\"people\"')\n",
      "(86, '0.046*\"martin\" + 0.032*\"record\" + 0.028*\"right\" + 0.024*\"audio\" + 0.020*\"recording\" + 0.019*\"kelly\" + 0.017*\"contractor\" + 0.017*\"deadline\" + 0.016*\"soundbite\" + 0.016*\"transcript\"')\n",
      "(87, '0.014*\"years\" + 0.010*\"first\" + 0.007*\"friend\" + 0.007*\"photograph\" + 0.007*\"become\" + 0.006*\"later\" + 0.006*\"story\" + 0.005*\"could\" + 0.005*\"still\" + 0.005*\"around\"')\n",
      "(88, '0.113*\"court\" + 0.029*\"supreme\" + 0.029*\"judge\" + 0.026*\"justice\" + 0.024*\"decision\" + 0.019*\"appeal\" + 0.017*\"ruling\" + 0.017*\"legal\" + 0.012*\"right\" + 0.012*\"question\"')\n",
      "(89, '0.041*\"would\" + 0.028*\"agreement\" + 0.016*\"ireland\" + 0.014*\"could\" + 0.014*\"meeting\" + 0.014*\"talks\" + 0.012*\"northern\" + 0.012*\"agree\" + 0.009*\"government\" + 0.009*\"negotiation\"')\n",
      "(90, '0.275*\"school\" + 0.075*\"education\" + 0.072*\"student\" + 0.057*\"teacher\" + 0.019*\"parent\" + 0.016*\"child\" + 0.013*\"public\" + 0.013*\"class\" + 0.011*\"grade\" + 0.010*\"charter\"')\n",
      "(91, '0.035*\"economy\" + 0.024*\"growth\" + 0.022*\"economic\" + 0.022*\"price\" + 0.016*\"month\" + 0.015*\"rates\" + 0.014*\"market\" + 0.013*\"recession\" + 0.010*\"increase\" + 0.010*\"interest\"')\n",
      "(92, '0.031*\"report\" + 0.021*\"department\" + 0.019*\"agency\" + 0.018*\"information\" + 0.013*\"request\" + 0.012*\"official\" + 0.012*\"letter\" + 0.011*\"office\" + 0.011*\"document\" + 0.010*\"release\"')\n",
      "(93, '0.050*\"drug\" + 0.031*\"marijuana\" + 0.031*\"opioid\" + 0.024*\"cigarette\" + 0.021*\"product\" + 0.019*\"tobacco\" + 0.018*\"addiction\" + 0.017*\"indigenous\" + 0.016*\"alcohol\" + 0.014*\"prescription\"')\n",
      "(94, '0.037*\"white\" + 0.034*\"american\" + 0.031*\"black\" + 0.025*\"people\" + 0.023*\"racist\" + 0.014*\"community\" + 0.012*\"right\" + 0.011*\"racism\" + 0.011*\"america\" + 0.010*\"racial\"')\n",
      "(95, '0.063*\"lawsuit\" + 0.049*\"claim\" + 0.045*\"file\" + 0.028*\"settlement\" + 0.027*\"complaint\" + 0.024*\"federal\" + 0.023*\"lawyer\" + 0.022*\"allege\" + 0.020*\"filing\" + 0.020*\"million\"')\n",
      "(96, '0.402*\"image\" + 0.153*\"caption\" + 0.112*\"copyright\" + 0.107*\"getty\" + 0.022*\"enlarge\" + 0.021*\"toggle\" + 0.009*\"trudeau\" + 0.007*\"medium\" + 0.006*\"example\" + 0.005*\"carry\"')\n",
      "(97, '0.053*\"water\" + 0.049*\"energy\" + 0.033*\"power\" + 0.031*\"plant\" + 0.023*\"project\" + 0.016*\"production\" + 0.015*\"supply\" + 0.015*\"waste\" + 0.011*\"electricity\" + 0.011*\"industry\"')\n",
      "(98, '0.061*\"times\" + 0.042*\"medium\" + 0.041*\"report\" + 0.036*\"journalist\" + 0.035*\"story\" + 0.032*\"editor\" + 0.028*\"publish\" + 0.028*\"newspaper\" + 0.026*\"article\" + 0.025*\"write\"')\n",
      "(99, '0.109*\"trade\" + 0.068*\"tariff\" + 0.026*\"import\" + 0.023*\"good\" + 0.021*\"canada\" + 0.021*\"china\" + 0.019*\"export\" + 0.017*\"american\" + 0.016*\"unite\" + 0.015*\"country\"')\n"
     ]
    }
   ],
   "source": [
    "print_topics(model, print_num_topics=100, print_num_words=10)"
   ]
  },
  {
   "cell_type": "markdown",
   "id": "5fd81a9a-f4c4-41b6-9d4f-33d7a7b4c79c",
   "metadata": {},
   "source": [
    " # What is the Dominant topic and its percentage contribution in each document\n",
    " In LDA models, each document is composed of multiple topics. But, typically only one of the topics is dominant. The below code extracts this dominant topic for each sentence and shows the weight of the topic and the keywords in a nicely formatted output."
   ]
  },
  {
   "cell_type": "code",
   "execution_count": 22,
   "id": "5f6a2a12-ddcc-45a9-900c-898bc9d2fa22",
   "metadata": {
    "execution": {
     "iopub.execute_input": "2022-02-06T23:33:24.695035Z",
     "iopub.status.busy": "2022-02-06T23:33:24.694440Z",
     "iopub.status.idle": "2022-02-06T23:33:24.711716Z",
     "shell.execute_reply": "2022-02-06T23:33:24.710944Z",
     "shell.execute_reply.started": "2022-02-06T23:33:24.695012Z"
    }
   },
   "outputs": [
    {
     "ename": "NameError",
     "evalue": "name 'data' is not defined",
     "output_type": "error",
     "traceback": [
      "\u001b[0;31m---------------------------------------------------------------------------\u001b[0m",
      "\u001b[0;31mNameError\u001b[0m                                 Traceback (most recent call last)",
      "\u001b[0;32m/tmp/ipykernel_741/731305557.py\u001b[0m in \u001b[0;36m<module>\u001b[0;34m\u001b[0m\n\u001b[0;32m----> 1\u001b[0;31m \u001b[0;32mdef\u001b[0m \u001b[0mformat_topics_sentences\u001b[0m\u001b[0;34m(\u001b[0m\u001b[0mldamodel\u001b[0m\u001b[0;34m=\u001b[0m\u001b[0;32mNone\u001b[0m\u001b[0;34m,\u001b[0m \u001b[0mcorpus\u001b[0m\u001b[0;34m=\u001b[0m\u001b[0mcorpus\u001b[0m\u001b[0;34m,\u001b[0m \u001b[0mtexts\u001b[0m\u001b[0;34m=\u001b[0m\u001b[0mdata\u001b[0m\u001b[0;34m)\u001b[0m\u001b[0;34m:\u001b[0m\u001b[0;34m\u001b[0m\u001b[0;34m\u001b[0m\u001b[0m\n\u001b[0m\u001b[1;32m      2\u001b[0m     \u001b[0;31m# Init output\u001b[0m\u001b[0;34m\u001b[0m\u001b[0;34m\u001b[0m\u001b[0m\n\u001b[1;32m      3\u001b[0m     \u001b[0msent_topics_df\u001b[0m \u001b[0;34m=\u001b[0m \u001b[0mpd\u001b[0m\u001b[0;34m.\u001b[0m\u001b[0mDataFrame\u001b[0m\u001b[0;34m(\u001b[0m\u001b[0;34m)\u001b[0m\u001b[0;34m\u001b[0m\u001b[0;34m\u001b[0m\u001b[0m\n\u001b[1;32m      4\u001b[0m \u001b[0;34m\u001b[0m\u001b[0m\n\u001b[1;32m      5\u001b[0m     \u001b[0;31m# Get main topic in each document\u001b[0m\u001b[0;34m\u001b[0m\u001b[0;34m\u001b[0m\u001b[0m\n",
      "\u001b[0;31mNameError\u001b[0m: name 'data' is not defined"
     ]
    }
   ],
   "source": [
    "def format_topics_sentences(ldamodel=None, corpus=corpus, texts=data):\n",
    "    # Init output\n",
    "    sent_topics_df = pd.DataFrame()\n",
    "\n",
    "    # Get main topic in each document\n",
    "    for i, row_list in enumerate(ldamodel[corpus]):\n",
    "        row = row_list[0] if ldamodel.per_word_topics else row_list            \n",
    "        # print(row)\n",
    "        row = sorted(row, key=lambda x: (x[1]), reverse=True)\n",
    "        # Get the Dominant topic, Perc Contribution and Keywords for each document\n",
    "        for j, (topic_num, prop_topic) in enumerate(row):\n",
    "            if j == 0:  # => dominant topic\n",
    "                wp = ldamodel.show_topic(topic_num)\n",
    "                topic_keywords = \", \".join([word for word, prop in wp])\n",
    "                sent_topics_df = sent_topics_df.append(pd.Series([int(topic_num), round(prop_topic,4), topic_keywords]), ignore_index=True)\n",
    "            else:\n",
    "                break\n",
    "    sent_topics_df.columns = ['Dominant_Topic', 'Perc_Contribution', 'Topic_Keywords']\n",
    "\n",
    "    # Add original text to the end of the output\n",
    "    contents = pd.Series(texts)\n",
    "    sent_topics_df = pd.concat([sent_topics_df, contents], axis=1)\n",
    "    return(sent_topics_df)"
   ]
  },
  {
   "cell_type": "code",
   "execution_count": null,
   "id": "f992c675-f19f-4793-826d-a8e4cf0aaa97",
   "metadata": {},
   "outputs": [],
   "source": [
    "\n",
    "df_topic_sents_keywords = format_topics_sentences(ldamodel=lda_model, corpus=corpus, texts=data_ready)\n",
    "\n",
    "# Format\n",
    "df_dominant_topic = df_topic_sents_keywords.reset_index()\n",
    "df_dominant_topic.columns = ['Document_No', 'Dominant_Topic', 'Topic_Perc_Contrib', 'Keywords', 'Text']\n",
    "df_dominant_topic.head(10)"
   ]
  },
  {
   "cell_type": "markdown",
   "id": "64e3600c-b72b-4119-aebf-8e7f13e5fdd0",
   "metadata": {},
   "source": [
    "# Word Clouds of Top N Keywords in Each Topic\n",
    "Though you’ve already seen what are the topic keywords in each topic, a word cloud with the size of the words proportional to the weight is a pleasant sight. The coloring of the topics I’ve taken here is followed in the subsequent plots as well."
   ]
  },
  {
   "cell_type": "code",
   "execution_count": null,
   "id": "bd9ada22-cae2-446c-9d9b-7902514ef2f8",
   "metadata": {
    "tags": []
   },
   "outputs": [],
   "source": [
    "# 1. Wordcloud of Top N words in each topic\n",
    "from matplotlib import pyplot as plt\n",
    "from wordcloud import WordCloud, STOPWORDS\n",
    "import matplotlib.colors as mcolors\n",
    "\n",
    "cols = [color for name, color in mcolors.TABLEAU_COLORS.items()]  # more colors: 'mcolors.XKCD_COLORS'\n",
    "\n",
    "cloud = WordCloud(stopwords=STOPWORDS,\n",
    "                  background_color='white',\n",
    "                  width=2500,\n",
    "                  height=1800,\n",
    "                  max_words=20,\n",
    "                  colormap='tab10',\n",
    "                  color_func=lambda *args, **kwargs: cols[i],\n",
    "                  prefer_horizontal=1.0)\n",
    "\n",
    "topics = model.show_topics(formatted=False)\n",
    "\n",
    "fig, axes = plt.subplots(2, 2, figsize=(10,10), sharex=True, sharey=True)\n",
    "\n",
    "for i, ax in enumerate(axes.flatten()):\n",
    "    fig.add_subplot(ax)\n",
    "    topic_words = dict(topics[i][1])\n",
    "    cloud.generate_from_frequencies(topic_words, max_font_size=300)\n",
    "    plt.gca().imshow(cloud)\n",
    "    plt.gca().set_title('Topic ' + str(i), fontdict=dict(size=16))\n",
    "    plt.gca().axis('off')\n",
    "\n",
    "\n",
    "plt.subplots_adjust(wspace=0, hspace=0)\n",
    "plt.axis('off')\n",
    "plt.margins(x=0, y=0)\n",
    "plt.tight_layout()\n",
    "plt.show()"
   ]
  },
  {
   "cell_type": "markdown",
   "id": "ca93a384-548d-4704-8db1-d7126432ac0a",
   "metadata": {},
   "source": [
    "# pyLDAVis\n",
    "pyLDAVis is the most commonly used and a nice way to visualise the information contained in a topic model. Below is the implementation for LdaModel()."
   ]
  },
  {
   "cell_type": "code",
   "execution_count": null,
   "id": "b15fcd8d-1936-47dc-8f89-3a35bb2695f6",
   "metadata": {
    "execution": {
     "iopub.execute_input": "2022-02-07T00:07:01.202653Z",
     "iopub.status.busy": "2022-02-07T00:07:01.202332Z"
    },
    "tags": []
   },
   "outputs": [
    {
     "name": "stderr",
     "output_type": "stream",
     "text": [
      "/srv/conda/envs/saturn/lib/python3.9/site-packages/pyLDAvis/_prepare.py:246: FutureWarning: In a future version of pandas all arguments of DataFrame.drop except for the argument 'labels' will be keyword-only\n",
      "  default_term_info = default_term_info.sort_values(\n",
      "/srv/conda/envs/saturn/lib/python3.9/site-packages/past/builtins/misc.py:45: DeprecationWarning: the imp module is deprecated in favour of importlib; see the module's documentation for alternative uses\n",
      "  from imp import reload\n",
      "/srv/conda/envs/saturn/lib/python3.9/site-packages/past/builtins/misc.py:45: DeprecationWarning: the imp module is deprecated in favour of importlib; see the module's documentation for alternative uses\n",
      "  from imp import reload\n",
      "/srv/conda/envs/saturn/lib/python3.9/site-packages/past/builtins/misc.py:45: DeprecationWarning: the imp module is deprecated in favour of importlib; see the module's documentation for alternative uses\n",
      "  from imp import reload\n",
      "/srv/conda/envs/saturn/lib/python3.9/site-packages/past/builtins/misc.py:45: DeprecationWarning: the imp module is deprecated in favour of importlib; see the module's documentation for alternative uses\n",
      "  from imp import reload\n",
      "/srv/conda/envs/saturn/lib/python3.9/site-packages/past/builtins/misc.py:45: DeprecationWarning: the imp module is deprecated in favour of importlib; see the module's documentation for alternative uses\n",
      "  from imp import reload\n",
      "/srv/conda/envs/saturn/lib/python3.9/site-packages/past/builtins/misc.py:45: DeprecationWarning: the imp module is deprecated in favour of importlib; see the module's documentation for alternative uses\n",
      "  from imp import reload\n",
      "/srv/conda/envs/saturn/lib/python3.9/site-packages/past/builtins/misc.py:45: DeprecationWarning: the imp module is deprecated in favour of importlib; see the module's documentation for alternative uses\n",
      "  from imp import reload\n",
      "/srv/conda/envs/saturn/lib/python3.9/site-packages/past/builtins/misc.py:45: DeprecationWarning: the imp module is deprecated in favour of importlib; see the module's documentation for alternative uses\n",
      "  from imp import reload\n"
     ]
    }
   ],
   "source": [
    "# import pyLDAvis.gensim\n",
    "import pyLDAvis\n",
    "import pyLDAvis.gensim_models as gensimvis\n",
    "pyLDAvis.enable_notebook()\n",
    "vis = pyLDAvis.gensim_models.prepare(model, corpus, dictionary=dictionary)\n",
    "vis"
   ]
  },
  {
   "cell_type": "code",
   "execution_count": null,
   "id": "4cac2c22-0d66-47fe-81f9-a4d5a3408e08",
   "metadata": {},
   "outputs": [],
   "source": [
    "pyLDAvis.save_html(vis, 'lda_visualiaztion_100_topics_1.html')"
   ]
  },
  {
   "cell_type": "code",
   "execution_count": null,
   "id": "58b19b3f-3c9e-4d49-93ca-8ebd7c252824",
   "metadata": {},
   "outputs": [],
   "source": []
  }
 ],
 "metadata": {
  "colab": {
   "collapsed_sections": [],
   "name": "Task1_TopicModelling.ipynb",
   "provenance": []
  },
  "kernelspec": {
   "display_name": "saturn (Python 3)",
   "language": "python",
   "name": "python3"
  },
  "language_info": {
   "codemirror_mode": {
    "name": "ipython",
    "version": 3
   },
   "file_extension": ".py",
   "mimetype": "text/x-python",
   "name": "python",
   "nbconvert_exporter": "python",
   "pygments_lexer": "ipython3",
   "version": "3.9.9"
  }
 },
 "nbformat": 4,
 "nbformat_minor": 5
}
