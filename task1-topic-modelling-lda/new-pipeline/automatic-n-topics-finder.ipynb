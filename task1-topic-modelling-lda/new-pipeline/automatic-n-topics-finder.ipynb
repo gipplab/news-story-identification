{
 "cells": [
  {
   "cell_type": "markdown",
   "id": "5084e15c",
   "metadata": {},
   "source": [
    "## Link\n",
    "#### https://www.machinelearningplus.com/nlp/topic-modeling-gensim-python/"
   ]
  },
  {
   "cell_type": "code",
   "execution_count": 2,
   "id": "da62e67b",
   "metadata": {},
   "outputs": [],
   "source": [
    "import re\n",
    "import numpy as np\n",
    "import pandas as pd\n",
    "from pprint import pprint\n",
    "\n",
    "# Gensim\n",
    "import gensim\n",
    "import gensim.corpora as corpora\n",
    "from gensim.utils import simple_preprocess\n",
    "from gensim.models import CoherenceModel\n",
    "\n",
    "# spacy for lemmatization\n",
    "import spacy\n",
    "\n",
    "# Plotting tools\n",
    "# import pyLDAvis\n",
    "# import pyLDAvis.gensim  # don't skip this\n",
    "import matplotlib.pyplot as plt\n",
    "%matplotlib inline\n",
    "\n",
    "# Enable logging for gensim - optional\n",
    "import logging\n",
    "logging.basicConfig(format='%(asctime)s : %(levelname)s : %(message)s', level=logging.ERROR)\n",
    "\n",
    "import warnings\n",
    "warnings.filterwarnings(\"ignore\",category=DeprecationWarning)"
   ]
  },
  {
   "cell_type": "code",
   "execution_count": 3,
   "id": "99c1c9ba",
   "metadata": {},
   "outputs": [],
   "source": [
    "# NLTK Stop words\n",
    "from nltk.corpus import stopwords\n",
    "stop_words = stopwords.words('english')\n",
    "stop_words.extend(['from', 'subject', 're', 'edu', 'use'])"
   ]
  },
  {
   "cell_type": "code",
   "execution_count": 4,
   "id": "61e5129d",
   "metadata": {},
   "outputs": [
    {
     "name": "stdout",
     "output_type": "stream",
     "text": [
      "['rec.autos' 'comp.sys.mac.hardware' 'comp.graphics' 'sci.space'\n",
      " 'talk.politics.guns' 'sci.med' 'comp.sys.ibm.pc.hardware'\n",
      " 'comp.os.ms-windows.misc' 'rec.motorcycles' 'talk.religion.misc'\n",
      " 'misc.forsale' 'alt.atheism' 'sci.electronics' 'comp.windows.x'\n",
      " 'rec.sport.hockey' 'rec.sport.baseball' 'soc.religion.christian'\n",
      " 'talk.politics.mideast' 'talk.politics.misc' 'sci.crypt']\n"
     ]
    },
    {
     "data": {
      "text/html": [
       "<div>\n",
       "<style scoped>\n",
       "    .dataframe tbody tr th:only-of-type {\n",
       "        vertical-align: middle;\n",
       "    }\n",
       "\n",
       "    .dataframe tbody tr th {\n",
       "        vertical-align: top;\n",
       "    }\n",
       "\n",
       "    .dataframe thead th {\n",
       "        text-align: right;\n",
       "    }\n",
       "</style>\n",
       "<table border=\"1\" class=\"dataframe\">\n",
       "  <thead>\n",
       "    <tr style=\"text-align: right;\">\n",
       "      <th></th>\n",
       "      <th>content</th>\n",
       "      <th>target</th>\n",
       "      <th>target_names</th>\n",
       "    </tr>\n",
       "  </thead>\n",
       "  <tbody>\n",
       "    <tr>\n",
       "      <th>0</th>\n",
       "      <td>From: lerxst@wam.umd.edu (where's my thing)\\nS...</td>\n",
       "      <td>7</td>\n",
       "      <td>rec.autos</td>\n",
       "    </tr>\n",
       "    <tr>\n",
       "      <th>1</th>\n",
       "      <td>From: guykuo@carson.u.washington.edu (Guy Kuo)...</td>\n",
       "      <td>4</td>\n",
       "      <td>comp.sys.mac.hardware</td>\n",
       "    </tr>\n",
       "    <tr>\n",
       "      <th>2</th>\n",
       "      <td>From: twillis@ec.ecn.purdue.edu (Thomas E Will...</td>\n",
       "      <td>4</td>\n",
       "      <td>comp.sys.mac.hardware</td>\n",
       "    </tr>\n",
       "    <tr>\n",
       "      <th>3</th>\n",
       "      <td>From: jgreen@amber (Joe Green)\\nSubject: Re: W...</td>\n",
       "      <td>1</td>\n",
       "      <td>comp.graphics</td>\n",
       "    </tr>\n",
       "    <tr>\n",
       "      <th>4</th>\n",
       "      <td>From: jcm@head-cfa.harvard.edu (Jonathan McDow...</td>\n",
       "      <td>14</td>\n",
       "      <td>sci.space</td>\n",
       "    </tr>\n",
       "  </tbody>\n",
       "</table>\n",
       "</div>"
      ],
      "text/plain": [
       "                                             content  target  \\\n",
       "0  From: lerxst@wam.umd.edu (where's my thing)\\nS...       7   \n",
       "1  From: guykuo@carson.u.washington.edu (Guy Kuo)...       4   \n",
       "2  From: twillis@ec.ecn.purdue.edu (Thomas E Will...       4   \n",
       "3  From: jgreen@amber (Joe Green)\\nSubject: Re: W...       1   \n",
       "4  From: jcm@head-cfa.harvard.edu (Jonathan McDow...      14   \n",
       "\n",
       "            target_names  \n",
       "0              rec.autos  \n",
       "1  comp.sys.mac.hardware  \n",
       "2  comp.sys.mac.hardware  \n",
       "3          comp.graphics  \n",
       "4              sci.space  "
      ]
     },
     "execution_count": 4,
     "metadata": {},
     "output_type": "execute_result"
    }
   ],
   "source": [
    "# Import Dataset\n",
    "df = pd.read_json('https://raw.githubusercontent.com/selva86/datasets/master/newsgroups.json')\n",
    "print(df.target_names.unique())\n",
    "df.head()"
   ]
  },
  {
   "cell_type": "code",
   "execution_count": 5,
   "id": "9b4fd0ad",
   "metadata": {},
   "outputs": [
    {
     "name": "stdout",
     "output_type": "stream",
     "text": [
      "['From: (wheres my thing) Subject: WHAT car is this!? Nntp-Posting-Host: '\n",
      " 'rac3.wam.umd.edu Organization: University of Maryland, College Park Lines: '\n",
      " '15 I was wondering if anyone out there could enlighten me on this car I saw '\n",
      " 'the other day. It was a 2-door sports car, looked to be from the late 60s/ '\n",
      " 'early 70s. It was called a Bricklin. The doors were really small. In '\n",
      " 'addition, the front bumper was separate from the rest of the body. This is '\n",
      " 'all I know. If anyone can tellme a model name, engine specs, years of '\n",
      " 'production, where this car is made, history, or whatever info you have on '\n",
      " 'this funky looking car, please e-mail. Thanks, - IL ---- brought to you by '\n",
      " 'your neighborhood Lerxst ---- ']\n"
     ]
    }
   ],
   "source": [
    "# Convert to list\n",
    "data = df.content.values.tolist()\n",
    "\n",
    "# Remove Emails\n",
    "data = [re.sub('\\S*@\\S*\\s?', '', sent) for sent in data]\n",
    "\n",
    "# Remove new line characters\n",
    "data = [re.sub('\\s+', ' ', sent) for sent in data]\n",
    "\n",
    "# Remove distracting single quotes\n",
    "data = [re.sub(\"\\'\", \"\", sent) for sent in data]\n",
    "\n",
    "pprint(data[:1])"
   ]
  },
  {
   "cell_type": "code",
   "execution_count": 6,
   "id": "a16a128e",
   "metadata": {},
   "outputs": [
    {
     "name": "stdout",
     "output_type": "stream",
     "text": [
      "[['from', 'wheres', 'my', 'thing', 'subject', 'what', 'car', 'is', 'this', 'nntp', 'posting', 'host', 'rac', 'wam', 'umd', 'edu', 'organization', 'university', 'of', 'maryland', 'college', 'park', 'lines', 'was', 'wondering', 'if', 'anyone', 'out', 'there', 'could', 'enlighten', 'me', 'on', 'this', 'car', 'saw', 'the', 'other', 'day', 'it', 'was', 'door', 'sports', 'car', 'looked', 'to', 'be', 'from', 'the', 'late', 'early', 'it', 'was', 'called', 'bricklin', 'the', 'doors', 'were', 'really', 'small', 'in', 'addition', 'the', 'front', 'bumper', 'was', 'separate', 'from', 'the', 'rest', 'of', 'the', 'body', 'this', 'is', 'all', 'know', 'if', 'anyone', 'can', 'tellme', 'model', 'name', 'engine', 'specs', 'years', 'of', 'production', 'where', 'this', 'car', 'is', 'made', 'history', 'or', 'whatever', 'info', 'you', 'have', 'on', 'this', 'funky', 'looking', 'car', 'please', 'mail', 'thanks', 'il', 'brought', 'to', 'you', 'by', 'your', 'neighborhood', 'lerxst']]\n"
     ]
    }
   ],
   "source": [
    "def sent_to_words(sentences):\n",
    "    for sentence in sentences:\n",
    "        yield(gensim.utils.simple_preprocess(str(sentence), deacc=True))  # deacc=True removes punctuations\n",
    "\n",
    "data_words = list(sent_to_words(data))\n",
    "\n",
    "print(data_words[:1])"
   ]
  },
  {
   "cell_type": "code",
   "execution_count": 7,
   "id": "1447d869",
   "metadata": {},
   "outputs": [
    {
     "name": "stdout",
     "output_type": "stream",
     "text": [
      "['from', 'wheres', 'my', 'thing', 'subject', 'what', 'car', 'is', 'this', 'nntp_posting_host', 'rac_wam_umd_edu', 'organization', 'university', 'of', 'maryland_college_park', 'lines', 'was', 'wondering', 'if', 'anyone', 'out', 'there', 'could', 'enlighten', 'me', 'on', 'this', 'car', 'saw', 'the', 'other', 'day', 'it', 'was', 'door', 'sports', 'car', 'looked', 'to', 'be', 'from', 'the', 'late', 'early', 'it', 'was', 'called', 'bricklin', 'the', 'doors', 'were', 'really', 'small', 'in', 'addition', 'the', 'front_bumper', 'was', 'separate', 'from', 'the', 'rest', 'of', 'the', 'body', 'this', 'is', 'all', 'know', 'if', 'anyone', 'can', 'tellme', 'model', 'name', 'engine', 'specs', 'years', 'of', 'production', 'where', 'this', 'car', 'is', 'made', 'history', 'or', 'whatever', 'info', 'you', 'have', 'on', 'this', 'funky', 'looking', 'car', 'please', 'mail', 'thanks', 'il', 'brought', 'to', 'you', 'by', 'your', 'neighborhood', 'lerxst']\n"
     ]
    }
   ],
   "source": [
    "# Build the bigram and trigram models\n",
    "bigram = gensim.models.Phrases(data_words, min_count=5, threshold=100) # higher threshold fewer phrases.\n",
    "trigram = gensim.models.Phrases(bigram[data_words], threshold=100)  \n",
    "\n",
    "# Faster way to get a sentence clubbed as a trigram/bigram\n",
    "bigram_mod = gensim.models.phrases.Phraser(bigram)\n",
    "trigram_mod = gensim.models.phrases.Phraser(trigram)\n",
    "\n",
    "# See trigram example\n",
    "print(trigram_mod[bigram_mod[data_words[0]]])"
   ]
  },
  {
   "cell_type": "code",
   "execution_count": 8,
   "id": "6ce0abce",
   "metadata": {},
   "outputs": [],
   "source": [
    "# Define functions for stopwords, bigrams, trigrams and lemmatization\n",
    "def remove_stopwords(texts):\n",
    "    return [[word for word in simple_preprocess(str(doc)) if word not in stop_words] for doc in texts]\n",
    "\n",
    "def make_bigrams(texts):\n",
    "    return [bigram_mod[doc] for doc in texts]\n",
    "\n",
    "def make_trigrams(texts):\n",
    "    return [trigram_mod[bigram_mod[doc]] for doc in texts]\n",
    "\n",
    "def lemmatization(texts, allowed_postags=['NOUN', 'ADJ', 'VERB', 'ADV']):\n",
    "    \"\"\"https://spacy.io/api/annotation\"\"\"\n",
    "    texts_out = []\n",
    "    for sent in texts:\n",
    "        doc = nlp(\" \".join(sent)) \n",
    "        texts_out.append([token.lemma_ for token in doc if token.pos_ in allowed_postags])\n",
    "    return texts_out"
   ]
  },
  {
   "cell_type": "code",
   "execution_count": 10,
   "id": "16a62910",
   "metadata": {},
   "outputs": [
    {
     "name": "stdout",
     "output_type": "stream",
     "text": [
      "[['where', 'thing', 'car', 'nntp_poste', 'host', 'park', 'line', 'wonder', 'could', 'enlighten', 'car', 'see', 'day', 'door', 'sport', 'car', 'look', 'late', 'early', 'call', 'door', 'really', 'small', 'addition', 'separate', 'rest', 'body', 'know', 'model', 'name', 'engine', 'spec', 'year', 'production', 'car', 'make', 'history', 'info', 'funky', 'look', 'car', 'mail', 'thank', 'bring', 'neighborhood', 'lerxst']]\n"
     ]
    }
   ],
   "source": [
    "# Remove Stop Words\n",
    "data_words_nostops = remove_stopwords(data_words)\n",
    "\n",
    "# Form Bigrams\n",
    "data_words_bigrams = make_bigrams(data_words_nostops)\n",
    "\n",
    "# Initialize spacy 'en' model, keeping only tagger component (for efficiency)\n",
    "# python3 -m spacy download en\n",
    "nlp = spacy.load('en_core_web_sm', disable=['parser', 'ner'])\n",
    "\n",
    "# Do lemmatization keeping only noun, adj, vb, adv\n",
    "data_lemmatized = lemmatization(data_words_bigrams, allowed_postags=['NOUN', 'ADJ', 'VERB', 'ADV'])\n",
    "\n",
    "print(data_lemmatized[:1])"
   ]
  },
  {
   "cell_type": "code",
   "execution_count": 11,
   "id": "290ba3d3",
   "metadata": {},
   "outputs": [
    {
     "name": "stdout",
     "output_type": "stream",
     "text": [
      "[[(0, 1), (1, 1), (2, 1), (3, 1), (4, 5), (5, 1), (6, 1), (7, 2), (8, 1), (9, 1), (10, 1), (11, 1), (12, 1), (13, 1), (14, 1), (15, 1), (16, 1), (17, 1), (18, 1), (19, 2), (20, 1), (21, 1), (22, 1), (23, 1), (24, 1), (25, 1), (26, 1), (27, 1), (28, 1), (29, 1), (30, 1), (31, 1), (32, 1), (33, 1), (34, 1), (35, 1), (36, 1), (37, 1), (38, 1), (39, 1)]]\n"
     ]
    }
   ],
   "source": [
    "# Create Dictionary\n",
    "id2word = corpora.Dictionary(data_lemmatized)\n",
    "\n",
    "# Create Corpus\n",
    "texts = data_lemmatized\n",
    "\n",
    "# Term Document Frequency\n",
    "corpus = [id2word.doc2bow(text) for text in texts]\n",
    "\n",
    "# View\n",
    "print(corpus[:1])"
   ]
  },
  {
   "cell_type": "code",
   "execution_count": 13,
   "id": "2953938f",
   "metadata": {},
   "outputs": [
    {
     "name": "stdout",
     "output_type": "stream",
     "text": [
      "[(0,\n",
      "  '0.073*\"god\" + 0.071*\"accept\" + 0.058*\"truth\" + 0.038*\"lie\" + '\n",
      "  '0.031*\"respect\" + 0.029*\"serve\" + 0.024*\"library\" + 0.022*\"cool\" + '\n",
      "  '0.019*\"dangerous\" + 0.017*\"witness\"'),\n",
      " (1,\n",
      "  '0.118*\"drive\" + 0.078*\"car\" + 0.037*\"fast\" + 0.033*\"speed\" + 0.030*\"light\" '\n",
      "  '+ 0.026*\"buy\" + 0.026*\"bike\" + 0.024*\"slow\" + 0.021*\"model\" + 0.019*\"ride\"'),\n",
      " (2,\n",
      "  '0.047*\"image\" + 0.047*\"entry\" + 0.044*\"color\" + 0.041*\"copy\" + '\n",
      "  '0.033*\"display\" + 0.030*\"page\" + 0.028*\"character\" + 0.025*\"size\" + '\n",
      "  '0.025*\"picture\" + 0.025*\"author\"'),\n",
      " (3,\n",
      "  '0.022*\"space\" + 0.021*\"high\" + 0.018*\"new\" + 0.016*\"cost\" + 0.015*\"power\" + '\n",
      "  '0.013*\"technology\" + 0.013*\"rate\" + 0.012*\"low\" + 0.012*\"design\" + '\n",
      "  '0.012*\"service\"'),\n",
      " (4,\n",
      "  '0.035*\"go\" + 0.027*\"say\" + 0.024*\"get\" + 0.022*\"time\" + 0.021*\"be\" + '\n",
      "  '0.021*\"think\" + 0.020*\"year\" + 0.020*\"come\" + 0.019*\"good\" + 0.018*\"take\"'),\n",
      " (5,\n",
      "  '0.149*\"system\" + 0.066*\"card\" + 0.058*\"computer\" + 0.051*\"problem\" + '\n",
      "  '0.045*\"machine\" + 0.036*\"patient\" + 0.035*\"memory\" + 0.034*\"user\" + '\n",
      "  '0.029*\"error\" + 0.025*\"access\"'),\n",
      " (6,\n",
      "  '0.044*\"use\" + 0.040*\"file\" + 0.039*\"program\" + 0.031*\"window\" + 0.025*\"bit\" '\n",
      "  '+ 0.023*\"run\" + 0.020*\"available\" + 0.019*\"set\" + 0.018*\"information\" + '\n",
      "  '0.018*\"info\"'),\n",
      " (7,\n",
      "  '0.066*\"science\" + 0.052*\"pass\" + 0.039*\"goal\" + 0.031*\"moral\" + '\n",
      "  '0.029*\"period\" + 0.026*\"owner\" + 0.022*\"objective\" + 0.021*\"operate\" + '\n",
      "  '0.021*\"minor\" + 0.021*\"plane\"'),\n",
      " (8,\n",
      "  '0.111*\"disk\" + 0.098*\"drug\" + 0.056*\"cpu\" + 0.048*\"boy\" + 0.033*\"gateway\" + '\n",
      "  '0.031*\"somehow\" + 0.030*\"clock\" + 0.029*\"quick\" + 0.026*\"soul\" + '\n",
      "  '0.022*\"brave\"'),\n",
      " (9,\n",
      "  '0.039*\"people\" + 0.031*\"believe\" + 0.030*\"say\" + 0.030*\"evidence\" + '\n",
      "  '0.025*\"reason\" + 0.020*\"claim\" + 0.018*\"sense\" + 0.017*\"man\" + '\n",
      "  '0.016*\"exist\" + 0.015*\"law\"'),\n",
      " (10,\n",
      "  '0.201*\"team\" + 0.082*\"play\" + 0.070*\"season\" + 0.047*\"trade\" + 0.035*\"pen\" '\n",
      "  '+ 0.029*\"rsa\" + 0.026*\"link\" + 0.019*\"crypto\" + 0.019*\"export\" + '\n",
      "  '0.017*\"college\"'),\n",
      " (11,\n",
      "  '0.046*\"kill\" + 0.030*\"israeli\" + 0.029*\"war\" + 0.028*\"attack\" + '\n",
      "  '0.027*\"soldier\" + 0.024*\"murder\" + 0.024*\"village\" + 0.023*\"death\" + '\n",
      "  '0.021*\"land\" + 0.020*\"government\"'),\n",
      " (12,\n",
      "  '0.169*\"book\" + 0.030*\"homosexual\" + 0.029*\"ensure\" + 0.027*\"dual\" + '\n",
      "  '0.026*\"wave\" + 0.023*\"task\" + 0.023*\"employer\" + 0.019*\"buyer\" + '\n",
      "  '0.018*\"islamic\" + 0.016*\"electrical\"'),\n",
      " (13,\n",
      "  '0.058*\"office\" + 0.037*\"hole\" + 0.033*\"double\" + 0.030*\"compile\" + '\n",
      "  '0.029*\"observation\" + 0.028*\"planet\" + 0.025*\"predict\" + 0.025*\"unlikely\" + '\n",
      "  '0.024*\"expansion\" + 0.023*\"capacity\"'),\n",
      " (14,\n",
      "  '0.079*\"key\" + 0.047*\"government\" + 0.045*\"public\" + 0.032*\"chip\" + '\n",
      "  '0.023*\"encryption\" + 0.021*\"protect\" + 0.020*\"security\" + 0.019*\"private\" + '\n",
      "  '0.016*\"crime\" + 0.015*\"citizen\"'),\n",
      " (15,\n",
      "  '0.151*\"line\" + 0.099*\"write\" + 0.066*\"article\" + 0.049*\"host\" + '\n",
      "  '0.046*\"nntp_poste\" + 0.045*\"organization\" + 0.026*\"thank\" + 0.023*\"reply\" + '\n",
      "  '0.018*\"game\" + 0.017*\"be\"'),\n",
      " (16,\n",
      "  '0.042*\"would\" + 0.022*\"know\" + 0.021*\"make\" + 0.021*\"may\" + 0.015*\"also\" + '\n",
      "  '0.013*\"could\" + 0.013*\"want\" + 0.013*\"try\" + 0.012*\"work\" + 0.012*\"find\"'),\n",
      " (17,\n",
      "  '0.126*\"price\" + 0.117*\"sell\" + 0.045*\"notice\" + 0.040*\"willing\" + '\n",
      "  '0.040*\"pay\" + 0.037*\"ca\" + 0.037*\"purchase\" + 0.029*\"extra\" + 0.029*\"pack\" '\n",
      "  '+ 0.028*\"insurance\"'),\n",
      " (18,\n",
      "  '0.165*\"internet\" + 0.038*\"ring\" + 0.033*\"modem\" + 0.032*\"remote\" + '\n",
      "  '0.032*\"own\" + 0.027*\"complaint\" + 0.026*\"tire\" + 0.020*\"campaign\" + '\n",
      "  '0.013*\"stuff_delete\" + 0.012*\"stuck\"'),\n",
      " (19,\n",
      "  '0.034*\"number\" + 0.026*\"order\" + 0.019*\"include\" + 0.019*\"report\" + '\n",
      "  '0.019*\"base\" + 0.019*\"issue\" + 0.017*\"source\" + 0.017*\"receive\" + '\n",
      "  '0.017*\"follow\" + 0.016*\"note\"')]\n"
     ]
    }
   ],
   "source": [
    "# Print the Keyword in the 10 topics\n",
    "pprint(lda_model.print_topics())\n",
    "doc_lda = lda_model[corpus]"
   ]
  },
  {
   "cell_type": "code",
   "execution_count": 14,
   "id": "5147846c",
   "metadata": {},
   "outputs": [
    {
     "name": "stdout",
     "output_type": "stream",
     "text": [
      "\n",
      "Coherence Score:  0.48378912634873583\n"
     ]
    }
   ],
   "source": [
    "# Compute Coherence Score\n",
    "coherence_model_lda = CoherenceModel(model=lda_model, texts=data_lemmatized, dictionary=id2word, coherence='c_v')\n",
    "coherence_lda = coherence_model_lda.get_coherence()\n",
    "print('\\nCoherence Score: ', coherence_lda)"
   ]
  },
  {
   "cell_type": "markdown",
   "id": "139c2fce",
   "metadata": {},
   "source": [
    "#### Automatic optimize num_topics "
   ]
  },
  {
   "cell_type": "code",
   "execution_count": 18,
   "id": "da249660",
   "metadata": {},
   "outputs": [],
   "source": [
    "def optimize_num_topics(minN=1, maxN=20):\n",
    "    # Build LDA model\n",
    "    best = (0, 0)\n",
    "    for i in range(minN, maxN):\n",
    "        print(f'Modelling {i}-topics model... ', end='')\n",
    "        lda_model = gensim.models.ldamodel.LdaModel(corpus=corpus,\n",
    "                                                   id2word=id2word,\n",
    "                                                   num_topics=i, \n",
    "                                                   random_state=100,\n",
    "                                                   update_every=1,\n",
    "                                                   chunksize=100,\n",
    "                                                   passes=10,\n",
    "                                                   alpha='auto',\n",
    "                                                   per_word_topics=True)\n",
    "        coherence_model_lda = CoherenceModel(model=lda_model, texts=data_lemmatized, dictionary=id2word, coherence='c_v')\n",
    "        coherence_lda = coherence_model_lda.get_coherence()\n",
    "        print(f' done, score = {coherence_lda}')\n",
    "        if coherence_lda > best[1]:\n",
    "            best = (i, coherence_lda)\n",
    "    print(f'=== Automation completed ===')\n",
    "    print(f'Best: {best[0]} topic(s), score: {best[1]}')\n",
    "    return best"
   ]
  },
  {
   "cell_type": "code",
   "execution_count": 19,
   "id": "6001d27e",
   "metadata": {},
   "outputs": [
    {
     "name": "stdout",
     "output_type": "stream",
     "text": [
      "Modelling 1-topics model...  done, score = 0.5521735734470273\n",
      "Modelling 2-topics model...  done, score = 0.4361109556875287\n",
      "Modelling 3-topics model...  done, score = 0.5428259058607942\n",
      "Modelling 4-topics model...  done, score = 0.4676357110724155\n",
      "Modelling 5-topics model...  done, score = 0.49471024093938365\n",
      "Modelling 6-topics model...  done, score = 0.49837297856079044\n",
      "Modelling 7-topics model...  done, score = 0.5374219748701302\n",
      "Modelling 8-topics model...  done, score = 0.5435241797976006\n",
      "Modelling 9-topics model...  done, score = 0.5301298985817611\n",
      "Modelling 10-topics model...  done, score = 0.5124631494538189\n",
      "Modelling 11-topics model...  done, score = 0.4763853389731867\n",
      "Modelling 12-topics model...  done, score = 0.4998213239819149\n",
      "Modelling 13-topics model...  done, score = 0.5232964764933651\n",
      "Modelling 14-topics model...  done, score = 0.46846386229338505\n",
      "Modelling 15-topics model...  done, score = 0.5146434535819566\n",
      "Modelling 16-topics model...  done, score = 0.4976911934260401\n",
      "Modelling 17-topics model...  done, score = 0.4925213529907919\n",
      "Modelling 18-topics model...  done, score = 0.5010316205543566\n",
      "Modelling 19-topics model...  done, score = 0.49280860689399764\n",
      "=== Automation completed ===\n",
      "Best: 1 topic(s), score: 0.5521735734470273\n"
     ]
    }
   ],
   "source": [
    "best_model = optimize_num_topics(1, 20)"
   ]
  },
  {
   "cell_type": "code",
   "execution_count": null,
   "id": "d100c1f9",
   "metadata": {},
   "outputs": [],
   "source": []
  }
 ],
 "metadata": {
  "kernelspec": {
   "display_name": "Python 3 (ipykernel)",
   "language": "python",
   "name": "python3"
  },
  "language_info": {
   "codemirror_mode": {
    "name": "ipython",
    "version": 3
   },
   "file_extension": ".py",
   "mimetype": "text/x-python",
   "name": "python",
   "nbconvert_exporter": "python",
   "pygments_lexer": "ipython3",
   "version": "3.7.9"
  }
 },
 "nbformat": 4,
 "nbformat_minor": 5
}
