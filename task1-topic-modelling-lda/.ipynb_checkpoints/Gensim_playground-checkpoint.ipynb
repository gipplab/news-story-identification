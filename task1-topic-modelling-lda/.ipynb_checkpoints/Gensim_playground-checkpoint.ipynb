{
 "cells": [
  {
   "cell_type": "code",
   "execution_count": 32,
   "id": "5155faf8",
   "metadata": {},
   "outputs": [],
   "source": [
    "from gensim.models import CoherenceModel\n",
    "from gensim import corpora\n",
    "from corpus import Corpus\n",
    "from dictionary import Dictionary\n",
    "from data_generator import DataGenerator\n",
    "from tokens import TokenGenerator\n",
    "import gensim\n",
    "from utils import OUTPUT_FOLDER, DATA_FOLDER\n",
    "import pandas as pd"
   ]
  },
  {
   "cell_type": "code",
   "execution_count": 33,
   "id": "92cda61f",
   "metadata": {},
   "outputs": [],
   "source": [
    "#https://github.com/RaRe-Technologies/gensim/issues/3040\n",
    "from gensim.topic_coherence import direct_confirmation_measure\n",
    "from my_custom_module import custom_log_ratio_measure\n",
    "direct_confirmation_measure.log_ratio_measure = custom_log_ratio_measure"
   ]
  },
  {
   "cell_type": "code",
   "execution_count": 34,
   "id": "87a32ff0",
   "metadata": {},
   "outputs": [],
   "source": [
    "ldamodel = gensim.models.LdaModel.load(r'D:\\Projects\\MasterThesis\\task1-topic-modelling-lda\\output\\polusa_balanced_tiny_10k\\Task1_ldamodel_full_20_topics.gensim')"
   ]
  },
  {
   "cell_type": "code",
   "execution_count": 35,
   "id": "cc643d3f",
   "metadata": {},
   "outputs": [],
   "source": [
    "texts = TokenGenerator(data_dir='polusa_balanced_tiny_10k')"
   ]
  },
  {
   "cell_type": "code",
   "execution_count": 16,
   "id": "ebea8d0d",
   "metadata": {},
   "outputs": [
    {
     "name": "stdout",
     "output_type": "stream",
     "text": [
      "Start building dictionary\n",
      "Reading documents from ./data/polusa_balanced_tiny_10k/2019_2.csv\n",
      "10000 documents read... \n",
      "Done with ./data/polusa_balanced_tiny_10k/2019_2.csv\n",
      "Dictionary built finished! 64929 words mapped\n",
      "Dictionary saved into file ./output/polusa_balanced_tiny_10k/Task1_dictionary_full.gensim\n"
     ]
    }
   ],
   "source": [
    "dictionary = Dictionary().build(data_dir='polusa_balanced_tiny_10k', out_dir='polusa_balanced_tiny_10k')"
   ]
  },
  {
   "cell_type": "code",
   "execution_count": 36,
   "id": "6a177468",
   "metadata": {},
   "outputs": [],
   "source": [
    "corpus = Corpus(dictionary=dictionary, data_dir='polusa_balanced_tiny_10k')"
   ]
  },
  {
   "cell_type": "code",
   "execution_count": 37,
   "id": "faed182b",
   "metadata": {},
   "outputs": [],
   "source": [
    "coherence_model = CoherenceModel(\n",
    "        model=ldamodel,\n",
    "        texts=texts,\n",
    "#         dictionary=dictionary,\n",
    "#         corpus=corpus,\n",
    "        coherence='c_v'\n",
    ")"
   ]
  },
  {
   "cell_type": "code",
   "execution_count": 38,
   "id": "37b843cf",
   "metadata": {},
   "outputs": [
    {
     "name": "stdout",
     "output_type": "stream",
     "text": [
      "Building tokens from ./data/polusa_balanced_tiny_10k/2019_2.csv\n",
      "10000 corpuses built... \n",
      "Done with ./data/polusa_balanced_tiny_10k/2019_2.csv\n"
     ]
    }
   ],
   "source": [
    "coherence_lda = coherence_model.get_coherence()"
   ]
  },
  {
   "cell_type": "code",
   "execution_count": 39,
   "id": "ce3f8a7b",
   "metadata": {},
   "outputs": [
    {
     "name": "stdout",
     "output_type": "stream",
     "text": [
      "Score: 0.9480649770033572\n"
     ]
    }
   ],
   "source": [
    "print(f'Score: {coherence_lda}')"
   ]
  },
  {
   "cell_type": "code",
   "execution_count": null,
   "id": "8b01c8a6",
   "metadata": {},
   "outputs": [],
   "source": []
  }
 ],
 "metadata": {
  "kernelspec": {
   "display_name": "Python 3 (ipykernel)",
   "language": "python",
   "name": "python3"
  },
  "language_info": {
   "codemirror_mode": {
    "name": "ipython",
    "version": 3
   },
   "file_extension": ".py",
   "mimetype": "text/x-python",
   "name": "python",
   "nbconvert_exporter": "python",
   "pygments_lexer": "ipython3",
   "version": "3.7.9"
  }
 },
 "nbformat": 4,
 "nbformat_minor": 5
}
