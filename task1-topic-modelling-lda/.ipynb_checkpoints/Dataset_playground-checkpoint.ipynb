{
 "cells": [
  {
   "cell_type": "code",
   "execution_count": 1,
   "id": "47d77293",
   "metadata": {},
   "outputs": [],
   "source": [
    "from gensim.models.ldamodel import LdaModel\n",
    "from gensim.models.coherencemodel import CoherenceModel"
   ]
  },
  {
   "cell_type": "code",
   "execution_count": 2,
   "id": "f562a222",
   "metadata": {},
   "outputs": [],
   "source": [
    "# Importing modules\n",
    "import pandas as pd\n",
    "import os"
   ]
  },
  {
   "cell_type": "code",
   "execution_count": 3,
   "id": "d6db80f5",
   "metadata": {},
   "outputs": [],
   "source": [
    "def validate(df):\n",
    "    overall = True\n",
    "    for index, row in df.iterrows():\n",
    "        if len(str(row['body'])) == 0 or len(str(row['headline'])) == 0:\n",
    "            overall = False\n",
    "            print(f'==== Failed case: {row}')\n",
    "            \n",
    "    print(f'==== Overall result: {overall} ====')"
   ]
  },
  {
   "cell_type": "code",
   "execution_count": 4,
   "id": "06cb694e",
   "metadata": {},
   "outputs": [],
   "source": [
    "def minimize(df, size=10000):\n",
    "    return df.sample(size)"
   ]
  },
  {
   "cell_type": "code",
   "execution_count": 6,
   "id": "51bfcd42",
   "metadata": {},
   "outputs": [
    {
     "name": "stdout",
     "output_type": "stream",
     "text": [
      "Validating file 2017_1.csv...\n",
      "==== Overall result: True ====\n",
      "Validating file 2017_2.csv...\n",
      "==== Overall result: True ====\n",
      "Validating file 2018_1.csv...\n",
      "==== Overall result: True ====\n",
      "Validating file 2018_2.csv...\n",
      "==== Overall result: True ====\n",
      "Validating file 2019_1.csv...\n",
      "==== Overall result: True ====\n",
      "Validating file 2019_2.csv...\n",
      "==== Overall result: True ====\n"
     ]
    }
   ],
   "source": [
    "files = ['2017_1.csv', '2017_2.csv', '2018_1.csv', '2018_2.csv', '2019_1.csv', '2019_2.csv']\n",
    "path = './data/polusa_balanced/'\n",
    "for file in files:\n",
    "    df = pd.read_csv(f'{path}{file}')\n",
    "#     print(df.keys())\n",
    "    print(f'Validating file {file}...')\n",
    "    validate(df)"
   ]
  },
  {
   "cell_type": "code",
   "execution_count": 9,
   "id": "e12dbcfb",
   "metadata": {},
   "outputs": [
    {
     "name": "stdout",
     "output_type": "stream",
     "text": [
      "Start converting documents to *.txt\n"
     ]
    },
    {
     "ename": "KeyboardInterrupt",
     "evalue": "",
     "output_type": "error",
     "traceback": [
      "\u001b[1;31m---------------------------------------------------------------------------\u001b[0m",
      "\u001b[1;31mKeyboardInterrupt\u001b[0m                         Traceback (most recent call last)",
      "\u001b[1;32m~\\AppData\\Local\\Temp\\ipykernel_3688\\689046286.py\u001b[0m in \u001b[0;36m<module>\u001b[1;34m\u001b[0m\n\u001b[0;32m     10\u001b[0m         \u001b[1;32mwith\u001b[0m \u001b[0mopen\u001b[0m\u001b[1;33m(\u001b[0m\u001b[1;34mf'{out_dir}/document_{doc_cnt}.txt'\u001b[0m\u001b[1;33m,\u001b[0m \u001b[1;34m\"w\"\u001b[0m\u001b[1;33m,\u001b[0m \u001b[0mencoding\u001b[0m\u001b[1;33m=\u001b[0m\u001b[1;34m\"utf-8\"\u001b[0m\u001b[1;33m)\u001b[0m \u001b[1;32mas\u001b[0m \u001b[0mf\u001b[0m\u001b[1;33m:\u001b[0m\u001b[1;33m\u001b[0m\u001b[1;33m\u001b[0m\u001b[0m\n\u001b[0;32m     11\u001b[0m             \u001b[0mf\u001b[0m\u001b[1;33m.\u001b[0m\u001b[0mwrite\u001b[0m\u001b[1;33m(\u001b[0m\u001b[0mcontent\u001b[0m\u001b[1;33m)\u001b[0m\u001b[1;33m\u001b[0m\u001b[1;33m\u001b[0m\u001b[0m\n\u001b[1;32m---> 12\u001b[1;33m             \u001b[0mf\u001b[0m\u001b[1;33m.\u001b[0m\u001b[0mclose\u001b[0m\u001b[1;33m(\u001b[0m\u001b[1;33m)\u001b[0m\u001b[1;33m\u001b[0m\u001b[1;33m\u001b[0m\u001b[0m\n\u001b[0m\u001b[0;32m     13\u001b[0m     \u001b[0mdoc_cnt\u001b[0m \u001b[1;33m=\u001b[0m \u001b[0mdoc_cnt\u001b[0m \u001b[1;33m+\u001b[0m \u001b[1;36m1\u001b[0m\u001b[1;33m\u001b[0m\u001b[1;33m\u001b[0m\u001b[0m\n\u001b[0;32m     14\u001b[0m     \u001b[1;32mif\u001b[0m \u001b[0mdoc_cnt\u001b[0m \u001b[1;33m%\u001b[0m \u001b[1;36m10000\u001b[0m \u001b[1;33m==\u001b[0m \u001b[1;36m0\u001b[0m\u001b[1;33m:\u001b[0m\u001b[1;33m\u001b[0m\u001b[1;33m\u001b[0m\u001b[0m\n",
      "\u001b[1;31mKeyboardInterrupt\u001b[0m: "
     ]
    }
   ],
   "source": [
    "from datetime import datetime\n",
    "doc_cnt = 1\n",
    "out_dir = './data/polusa_raw'\n",
    "print('Start converting documents to *.txt')\n",
    "start = datetime.now()\n",
    "for file in files:\n",
    "    df = pd.read_csv(f'{path}{file}')\n",
    "    for index, row in df.iterrows():\n",
    "        content = row['body']\n",
    "        with open(f'{out_dir}/document_{str(doc_cnt).zfill(6)}.txt', \"w\", encoding=\"utf-8\") as f:\n",
    "            f.write(content)\n",
    "            f.close()\n",
    "        doc_cnt = doc_cnt + 1\n",
    "        if doc_cnt % 10000 == 0:\n",
    "            print(f'{doc_cnt} documents converted...')\n",
    "print(f'=== FINISHED === Total of {doc_cnt} documents converted. {datetime.now() - start } elapsed')"
   ]
  },
  {
   "cell_type": "code",
   "execution_count": 20,
   "id": "71ea802d",
   "metadata": {
    "scrolled": true
   },
   "outputs": [
    {
     "name": "stdout",
     "output_type": "stream",
     "text": [
      "=== Reading 2017_1.csv ===\n",
      "=== Reading 2017_2.csv ===\n",
      "=== Reading 2018_1.csv ===\n",
      "=== Reading 2018_2.csv ===\n",
      "=== Reading 2019_1.csv ===\n",
      "=== Reading 2019_2.csv ===\n"
     ]
    }
   ],
   "source": [
    "dfs = []\n",
    "for file in files:\n",
    "    print(f'=== Reading {file} ===')\n",
    "    df = pd.read_csv(f'{path}{file}')\n",
    "    dfs.append(minimize(df, size=20000))"
   ]
  },
  {
   "cell_type": "code",
   "execution_count": 23,
   "id": "83882212",
   "metadata": {},
   "outputs": [
    {
     "name": "stdout",
     "output_type": "stream",
     "text": [
      "=== Merging all dataframes ===\n"
     ]
    }
   ],
   "source": [
    "print(f'=== Merging all dataframes ===')\n",
    "merged = pd.concat(dfs, keys=['id'])"
   ]
  },
  {
   "cell_type": "code",
   "execution_count": 26,
   "id": "5fbe0eb8",
   "metadata": {},
   "outputs": [
    {
     "name": "stdout",
     "output_type": "stream",
     "text": [
      "=== Writing to 2017_1.csv ===\n",
      "=== Writing to 2017_2.csv ===\n",
      "=== Writing to 2018_1.csv ===\n",
      "=== Writing to 2018_2.csv ===\n",
      "=== Writing to 2019_1.csv ===\n",
      "=== Writing to 2019_2.csv ===\n",
      "=== Finished ===\n"
     ]
    }
   ],
   "source": [
    "for i in range(len(files)):\n",
    "    print(f'=== Writing to {files[i]} ===')\n",
    "    dfs[i].to_csv(files[i], encoding=\"utf-8\")\n",
    "# merged.to_csv(file_name, encoding=\"utf-8\")\n",
    "print(f'=== Finished ===')"
   ]
  },
  {
   "cell_type": "code",
   "execution_count": null,
   "id": "8621f56b",
   "metadata": {},
   "outputs": [],
   "source": []
  }
 ],
 "metadata": {
  "kernelspec": {
   "display_name": "Python 3 (ipykernel)",
   "language": "python",
   "name": "python3"
  },
  "language_info": {
   "codemirror_mode": {
    "name": "ipython",
    "version": 3
   },
   "file_extension": ".py",
   "mimetype": "text/x-python",
   "name": "python",
   "nbconvert_exporter": "python",
   "pygments_lexer": "ipython3",
   "version": "3.7.9"
  }
 },
 "nbformat": 4,
 "nbformat_minor": 5
}
